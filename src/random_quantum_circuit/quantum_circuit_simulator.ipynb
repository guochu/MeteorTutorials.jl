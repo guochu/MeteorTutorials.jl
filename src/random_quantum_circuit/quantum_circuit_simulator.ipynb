{
 "cells": [
  {
   "cell_type": "markdown",
   "metadata": {},
   "source": [
    "# Classically simulate the working process of a quantum computer\n",
    "- Data Strcture for the Quantum State\n",
    "- Quantum Gate Operations\n",
    "- Applying Gate Operations onto the Quantum Circuit\n",
    "- Quantum Measurement\n",
    "- Measuring amplitudes"
   ]
  },
  {
   "cell_type": "code",
   "execution_count": 1,
   "metadata": {},
   "outputs": [],
   "source": [
    "push!(LOAD_PATH, \"../../src\")\n",
    "using Meteor.TensorNetwork\n",
    "using Meteor.QuantumCircuit"
   ]
  },
  {
   "cell_type": "markdown",
   "metadata": {},
   "source": [
    "## Part 1: Data Structure for the Quantum State\n",
    "- Dense Vector - the brute force approach, memory scales as $2^N$ for N-qubit quantum state, time scales **linearly** as the circuit depth $d$ (Full-amplitude simulator)\n",
    "- Tensor Network - memory scales exponentially as $\\sqrt{N}\\times d$ (Single-amplitude simulator)\n",
    "- Feynman Path Integral"
   ]
  },
  {
   "cell_type": "code",
   "execution_count": 7,
   "metadata": {},
   "outputs": [
    {
     "data": {
      "text/plain": [
       "8-element Array{Complex{Float64},1}:\n",
       " 1.0 + 0.0im\n",
       " 0.0 + 0.0im\n",
       " 0.0 + 0.0im\n",
       " 0.0 + 0.0im\n",
       " 0.0 + 0.0im\n",
       " 0.0 + 0.0im\n",
       " 0.0 + 0.0im\n",
       " 0.0 + 0.0im"
      ]
     },
     "execution_count": 7,
     "metadata": {},
     "output_type": "execute_result"
    }
   ],
   "source": [
    "# store the quantum state as a dense vector\n",
    "L = 3\n",
    "state = statevector(L)"
   ]
  },
  {
   "cell_type": "code",
   "execution_count": 8,
   "metadata": {},
   "outputs": [
    {
     "data": {
      "text/plain": [
       "NSymMPS{Complex{Float64}}(Array{Complex{Float64},3}[[1.0 + 0.0im 0.0 + 0.0im], [1.0 + 0.0im 0.0 + 0.0im], [1.0 + 0.0im 0.0 + 0.0im]], [#undef, #undef, #undef, #undef])"
      ]
     },
     "execution_count": 8,
     "metadata": {},
     "output_type": "execute_result"
    }
   ],
   "source": [
    "# store the quantum state as a one-dimension network network\n",
    "state = qstate(L)"
   ]
  },
  {
   "cell_type": "markdown",
   "metadata": {},
   "source": [
    "## Part 2: Quantum Gate Operations\n",
    "- Generating a sequence of quantum gates and feed them into a quantum circuit"
   ]
  },
  {
   "cell_type": "code",
   "execution_count": 12,
   "metadata": {},
   "outputs": [
    {
     "data": {
      "text/plain": [
       "4-element Array{AbstractGate,1}:\n",
       " HGate(1)\n",
       " HGate(1)\n",
       " CNOTGate((1, 2), [1, 2, 3, 4])\n",
       " CZGate((2, 3))"
      ]
     },
     "execution_count": 12,
     "metadata": {},
     "output_type": "execute_result"
    }
   ],
   "source": [
    "# create an empty quantum circuit and then adding quantum gate operations sequentially\n",
    "circuit = QCircuit()\n",
    "push!(circuit, HGate(1))\n",
    "push!(circuit, HGate(1))\n",
    "push!(circuit, CNOTGate(1,2))\n",
    "push!(circuit, CZGate(2,3))"
   ]
  },
  {
   "cell_type": "markdown",
   "metadata": {},
   "source": [
    "## Part 3: Applying Gate Operations onto the Quantum Circuit"
   ]
  },
  {
   "cell_type": "code",
   "execution_count": null,
   "metadata": {},
   "outputs": [],
   "source": []
  }
 ],
 "metadata": {
  "kernelspec": {
   "display_name": "Julia 1.4.0",
   "language": "julia",
   "name": "julia-1.4"
  },
  "language_info": {
   "file_extension": ".jl",
   "mimetype": "application/julia",
   "name": "julia",
   "version": "1.4.0"
  }
 },
 "nbformat": 4,
 "nbformat_minor": 2
}
