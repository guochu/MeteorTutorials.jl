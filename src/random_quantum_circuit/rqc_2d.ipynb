{
 "cells": [
  {
   "cell_type": "code",
   "execution_count": 1,
   "metadata": {},
   "outputs": [],
   "source": [
    "push!(LOAD_PATH, \"../../src\")\n",
    "using Meteor.TensorNetwork\n",
    "using Meteor.QuantumCircuit"
   ]
  },
  {
   "cell_type": "code",
   "execution_count": 2,
   "metadata": {},
   "outputs": [
    {
     "data": {
      "text/plain": [
       "QCircuit(AbstractGate[GenericOneBodyGate{Array{Float64,2}}(1, [0.7071067811865475 0.7071067811865475; 0.7071067811865475 -0.7071067811865475]), GenericOneBodyGate{Array{Float64,2}}(9, [0.7071067811865475 0.7071067811865475; 0.7071067811865475 -0.7071067811865475]), GenericOneBodyGate{Array{Float64,2}}(17, [0.7071067811865475 0.7071067811865475; 0.7071067811865475 -0.7071067811865475]), GenericOneBodyGate{Array{Float64,2}}(25, [0.7071067811865475 0.7071067811865475; 0.7071067811865475 -0.7071067811865475]), GenericOneBodyGate{Array{Float64,2}}(33, [0.7071067811865475 0.7071067811865475; 0.7071067811865475 -0.7071067811865475]), GenericOneBodyGate{Array{Float64,2}}(41, [0.7071067811865475 0.7071067811865475; 0.7071067811865475 -0.7071067811865475]), GenericOneBodyGate{Array{Float64,2}}(49, [0.7071067811865475 0.7071067811865475; 0.7071067811865475 -0.7071067811865475]), GenericOneBodyGate{Array{Float64,2}}(57, [0.7071067811865475 0.7071067811865475; 0.7071067811865475 -0.7071067811865475]), GenericOneBodyGate{Array{Float64,2}}(2, [0.7071067811865475 0.7071067811865475; 0.7071067811865475 -0.7071067811865475]), GenericOneBodyGate{Array{Float64,2}}(10, [0.7071067811865475 0.7071067811865475; 0.7071067811865475 -0.7071067811865475])  …  GenericOneBodyGate{Array{Float64,2}}(55, [0.7071067811865475 0.7071067811865475; 0.7071067811865475 -0.7071067811865475]), GenericOneBodyGate{Array{Float64,2}}(63, [0.7071067811865475 0.7071067811865475; 0.7071067811865475 -0.7071067811865475]), GenericOneBodyGate{Array{Float64,2}}(8, [0.7071067811865475 0.7071067811865475; 0.7071067811865475 -0.7071067811865475]), GenericOneBodyGate{Array{Float64,2}}(16, [0.7071067811865475 0.7071067811865475; 0.7071067811865475 -0.7071067811865475]), GenericOneBodyGate{Array{Float64,2}}(24, [0.7071067811865475 0.7071067811865475; 0.7071067811865475 -0.7071067811865475]), GenericOneBodyGate{Array{Float64,2}}(32, [0.7071067811865475 0.7071067811865475; 0.7071067811865475 -0.7071067811865475]), GenericOneBodyGate{Array{Float64,2}}(40, [0.7071067811865475 0.7071067811865475; 0.7071067811865475 -0.7071067811865475]), GenericOneBodyGate{Array{Float64,2}}(48, [0.7071067811865475 0.7071067811865475; 0.7071067811865475 -0.7071067811865475]), GenericOneBodyGate{Array{Float64,2}}(56, [0.7071067811865475 0.7071067811865475; 0.7071067811865475 -0.7071067811865475]), GenericOneBodyGate{Array{Float64,2}}(64, [0.7071067811865475 0.7071067811865475; 0.7071067811865475 -0.7071067811865475])])"
      ]
     },
     "execution_count": 2,
     "metadata": {},
     "output_type": "execute_result"
    }
   ],
   "source": [
    "function google_circuit(m::Int, n::Int, depth::Int)\n",
    "    XYT = Dict(0=>sqrtX, 1=>sqrtY, 2=>T)\n",
    "    Xoperated = zeros(Bool, m, n)\n",
    "    Yoperated = zeros(Bool, m, n)\n",
    "    Toperated = zeros(Bool, m, n)\n",
    "    CZoperated = zeros(Bool, m, n)\n",
    "\n",
    "    ControlZ = CZ\n",
    "    config1 = []\n",
    "    config2 = []\n",
    "    config3 = []\n",
    "    config4 = []\n",
    "    config5 = []\n",
    "    config6 = []\n",
    "    config7 = []\n",
    "    config8 = []\n",
    "    config1sites = []\n",
    "    config2sites = []\n",
    "    config3sites = []\n",
    "    config4sites = []\n",
    "    config5sites = []\n",
    "    config6sites = []\n",
    "    config7sites = []\n",
    "    config8sites = []\n",
    "    toind(i,j) = linear_index((m, n), (i, j), false)\n",
    "\n",
    "    # 1 configuration\n",
    "    for jj in 0:2:(n-2)\n",
    "        for ii in ((div(jj,2)+1)%2):2:(m-1)\n",
    "            i = ii + 1\n",
    "            j = jj + 1\n",
    "            push!(config1, ((toind(i, j), toind(i, j+1)), ControlZ))\n",
    "            push!(config1sites, (i, j))\n",
    "            push!(config1sites, (i, j+1))\n",
    "        end\n",
    "    end\n",
    "\n",
    "    # 2 configuration\n",
    "    for jj in 0:2:(n-2)\n",
    "        for ii in ((div(jj,2))%2):2:(m-1)\n",
    "            i = ii + 1\n",
    "            j = jj + 1\n",
    "            push!(config2, ((toind(i, j), toind(i, j+1)), ControlZ))\n",
    "            push!(config2sites, (i, j))\n",
    "            push!(config2sites, (i, j+1))\n",
    "        end\n",
    "    end\n",
    "\n",
    "    # 5 configuration\n",
    "    for jj in 1:2:(n-2)\n",
    "        for ii in ((div(jj,2)+1)%2):2:(m-1)\n",
    "            i = ii + 1\n",
    "            j = jj + 1\n",
    "            push!(config5, ((toind(i, j), toind(i, j+1)), ControlZ))\n",
    "            push!(config5sites, (i, j))\n",
    "            push!(config5sites, (i, j+1))\n",
    "        end\n",
    "    end\n",
    "\n",
    "    # 6 configuration\n",
    "    for jj in 1:2:(n-2)\n",
    "        for ii in (((div(jj,2)))%2):2:(m-1)\n",
    "            i = ii + 1\n",
    "            j = jj + 1\n",
    "            push!(config6, ((toind(i, j), toind(i, j+1)), ControlZ))\n",
    "            push!(config6sites, (i, j))\n",
    "            push!(config6sites, (i, j+1))\n",
    "        end\n",
    "    end\n",
    "\n",
    "    # 3 configuration\n",
    "    for ii in 1:2:(m-2)\n",
    "        for jj in ((div(ii,2)+1)%2):2:(n-1)\n",
    "            i = ii + 1\n",
    "            j = jj + 1\n",
    "            push!(config3, ((toind(i, j), toind(i+1, j)), ControlZ))\n",
    "            push!(config3sites, (i, j))\n",
    "            push!(config3sites, (i+1, j))\n",
    "        end\n",
    "    end\n",
    "\n",
    "    # 4 configuration\n",
    "    for ii in 1:2:(m-2)\n",
    "        for jj in ((div(ii,2))%2):2:(n-1)\n",
    "            i = ii + 1\n",
    "            j = jj + 1\n",
    "            push!(config4, ((toind(i, j), toind(i+1, j)), ControlZ))\n",
    "            push!(config4sites, (i, j))\n",
    "            push!(config4sites, (i+1, j))\n",
    "        end\n",
    "    end\n",
    "\n",
    "    # 7 configuration\n",
    "    for ii in 0:2:(m-2)\n",
    "        for jj in ((div(ii,2))%2):2:(n-1)\n",
    "            i = ii + 1\n",
    "            j = jj + 1\n",
    "            push!(config7, ((toind(i, j), toind(i+1, j)), ControlZ))\n",
    "            push!(config7sites, (i, j))\n",
    "            push!(config7sites, (i+1, j))\n",
    "        end\n",
    "    end\n",
    "\n",
    "    # 8 configuration\n",
    "    for ii in 0:2:(m-2)\n",
    "        for jj in ((div(ii,2)+1)%2):2:(n-1)\n",
    "            i = ii + 1\n",
    "            j = jj + 1\n",
    "            push!(config8, ((toind(i, j), toind(i+1, j)), ControlZ))\n",
    "            push!(config8sites, (i, j))\n",
    "            push!(config8sites, (i+1, j))\n",
    "        end\n",
    "    end\n",
    "\n",
    "    configs=[(config1, config1sites), (config2, config2sites), (config3, config3sites),\n",
    "        (config4, config4sites), (config5, config5sites), (config6, config6sites),\n",
    "        (config7, config7sites), (config8, config8sites)]\n",
    "\n",
    "    function __generate_one_body_gates()\n",
    "        one_body_gates = []\n",
    "        tmpXoperated = zeros(Bool, m, n)\n",
    "        tmpYoperated = zeros(Bool, m, n)\n",
    "        for i in 1:m\n",
    "            for j in 1:n\n",
    "                # Place a gate at qubit q only if this qubit is\n",
    "                # occupied by a CZ gate in the previous cycle\n",
    "                if CZoperated[i, j]\n",
    "                    # Place a T gate at qubit q if there are no single\n",
    "                    # qubit gates in the previous cycles at qubit q except\n",
    "                    # for the initial cycle of Hadamard gates\n",
    "                    if !Toperated[i, j]\n",
    "                        push!(one_body_gates, (toind(i, j), XYT[2]))\n",
    "                        Toperated[i, j] = true\n",
    "                    else\n",
    "                        # Any gate at qubit q should be different from\n",
    "                        # the gate at qubit q in the previous cycle.\n",
    "                        if tmpXoperated[i, j]\n",
    "                            push!(one_body_gates, (toind(i, j), XYT[1]))\n",
    "                            tmpYoperated[i, j] = true\n",
    "                        else\n",
    "                            if tmpYoperated[i, j]\n",
    "                                push!(one_body_gates, (toind(i, j), XYT[0]))\n",
    "                                tmpXoperated[i, j] = true\n",
    "                            else\n",
    "                                r = rand(0:1)\n",
    "                                push!(one_body_gates, (toind(i, j), XYT[0]))\n",
    "                                if r == 0\n",
    "                                    tmpXoperated[i, j] = true\n",
    "                                else\n",
    "                                    tmpYoperated[i, j] = true\n",
    "                                end\n",
    "                            end\n",
    "                        end\n",
    "                    end\n",
    "                end\n",
    "            end\n",
    "        end\n",
    "        Xoperated = tmpXoperated\n",
    "        Yoperated = tmpYoperated\n",
    "        return one_body_gates\n",
    "    end\n",
    "\n",
    "\n",
    "    circuit = QCircuit()\n",
    "    for i in 1:m\n",
    "        for j in 1:n\n",
    "            push!(circuit, (toind(i, j), H))\n",
    "        end\n",
    "    end\n",
    "    for i in 0:(depth-1)\n",
    "        present_config = i % 8 + 1\n",
    "        # println(\"present config is $present_config\")\n",
    "        config, configsites = configs[present_config]\n",
    "        fill!(CZoperated, false)\n",
    "        for item in configsites\n",
    "            CZoperated[item...] = true\n",
    "        end\n",
    "        one_body_gates = __generate_one_body_gates()\n",
    "        for item in one_body_gates\n",
    "            push!(circuit, item)\n",
    "        end\n",
    "        for item in config\n",
    "            push!(circuit, item)\n",
    "        end\n",
    "        # append!(circuit, one_body_gates)\n",
    "        # append!(circuit, config)\n",
    "    end\n",
    "    for i in 1:m\n",
    "        for j in 1:n\n",
    "            push!(circuit, (toind(i, j), H))\n",
    "        end\n",
    "    end\n",
    "    return circuit\n",
    "end\n",
    "\n",
    "m = 8\n",
    "n = 8\n",
    "depth = 12\n",
    "\n",
    "circuit = google_circuit(m, n, depth)"
   ]
  },
  {
   "cell_type": "code",
   "execution_count": 3,
   "metadata": {},
   "outputs": [
    {
     "name": "stdout",
     "output_type": "stream",
     "text": [
      "total number of gates 632.\n",
      "number of gates after gate fusion 168.\n"
     ]
    }
   ],
   "source": [
    "# gate fusion\n",
    "println(\"total number of gates $(length(circuit)).\")\n",
    "pcircuit = fuse_gate(circuit)\n",
    "println(\"number of gates after gate fusion $(length(pcircuit)).\")"
   ]
  },
  {
   "cell_type": "code",
   "execution_count": 4,
   "metadata": {},
   "outputs": [
    {
     "name": "stdout",
     "output_type": "stream",
     "text": [
      "generate 5 random basis...\n"
     ]
    },
    {
     "data": {
      "text/plain": [
       "5-element Array{Array{Int64,1},1}:\n",
       " [0, 0, 0, 1, 0, 1, 1, 1, 1, 1  …  0, 1, 1, 0, 1, 1, 1, 1, 0, 1]\n",
       " [0, 0, 0, 0, 0, 0, 0, 1, 1, 0  …  0, 1, 0, 1, 0, 0, 1, 0, 0, 1]\n",
       " [1, 1, 1, 1, 1, 0, 1, 0, 1, 1  …  0, 0, 1, 1, 0, 1, 0, 1, 0, 1]\n",
       " [1, 1, 0, 0, 1, 0, 1, 1, 1, 1  …  1, 0, 0, 1, 1, 1, 1, 0, 0, 0]\n",
       " [0, 1, 1, 1, 0, 0, 0, 1, 0, 0  …  0, 0, 1, 0, 1, 1, 1, 1, 0, 0]"
      ]
     },
     "execution_count": 4,
     "metadata": {},
     "output_type": "execute_result"
    }
   ],
   "source": [
    "# generate some random basis\n",
    "N = 5\n",
    "L = m * n\n",
    "println(\"generate $N random basis...\")\n",
    "basis = [rand(0:1, L) for i in 1:5]"
   ]
  },
  {
   "cell_type": "code",
   "execution_count": 5,
   "metadata": {},
   "outputs": [
    {
     "data": {
      "text/plain": [
       "5-element Array{Complex{Float64},1}:\n",
       "  0.20436480655664988 + 0.8030762857956077im\n",
       "  -0.8035713927182326 + 0.6720364739426341im\n",
       " -0.46340543749649343 - 0.3547672023222247im\n",
       "   0.7410190109241599 + 0.8799053544345506im\n",
       "   0.7887720862565859 - 0.23252721130492077im"
      ]
     },
     "execution_count": 5,
     "metadata": {},
     "output_type": "execute_result"
    }
   ],
   "source": [
    "# matrix product states simulation\n",
    "amps = mps_amplitudes(pcircuit, basis, scaling=sqrt(2))"
   ]
  },
  {
   "cell_type": "code",
   "execution_count": 6,
   "metadata": {},
   "outputs": [
    {
     "data": {
      "text/plain": [
       "112-element Array{Tuple{Int64,Int64},1}:\n",
       " (1, 2)\n",
       " (2, 3)\n",
       " (3, 4)\n",
       " (4, 5)\n",
       " (5, 6)\n",
       " (6, 7)\n",
       " (7, 8)\n",
       " (9, 10)\n",
       " (10, 11)\n",
       " (11, 12)\n",
       " (12, 13)\n",
       " (13, 14)\n",
       " (14, 15)\n",
       " ⋮\n",
       " (45, 53)\n",
       " (46, 54)\n",
       " (47, 55)\n",
       " (48, 56)\n",
       " (49, 57)\n",
       " (50, 58)\n",
       " (51, 59)\n",
       " (52, 60)\n",
       " (53, 61)\n",
       " (54, 62)\n",
       " (55, 63)\n",
       " (56, 64)"
      ]
     },
     "execution_count": 6,
     "metadata": {},
     "output_type": "execute_result"
    }
   ],
   "source": [
    "connectivities = square_connectivity(m, n)"
   ]
  },
  {
   "cell_type": "code",
   "execution_count": 7,
   "metadata": {},
   "outputs": [
    {
     "data": {
      "text/plain": [
       "5-element Array{Complex{Float64},1}:\n",
       " 0.20436480655663108 + 0.8030762857955595im\n",
       " -0.8035713927181827 + 0.6720364739426232im\n",
       " -0.4634054374964728 - 0.3547672023221968im\n",
       "  0.7410190109241415 + 0.8799053544345021im\n",
       "  0.7887720862565647 - 0.2325272113049424im"
      ]
     },
     "execution_count": 7,
     "metadata": {},
     "output_type": "execute_result"
    }
   ],
   "source": [
    "state = GraphState(connectivities)\n",
    "apply!(pcircuit, state)\n",
    "amps = amplitudes(state, basis, scaling=sqrt(2))"
   ]
  },
  {
   "cell_type": "code",
   "execution_count": 8,
   "metadata": {},
   "outputs": [
    {
     "data": {
      "text/plain": [
       "5-element Array{Complex{Float64},1}:\n",
       " -0.48789050435134124 - 0.46627691790485976im\n",
       "  -0.7030590318055637 - 0.5036015010984858im\n",
       "  -0.8362485520894687 - 0.019588729140718512im\n",
       "    1.021664075928392 - 0.2541595275158598im\n",
       "  -1.0184801660854261 - 0.3303595979218251im"
      ]
     },
     "execution_count": 8,
     "metadata": {},
     "output_type": "execute_result"
    }
   ],
   "source": [
    "depth = 16\n",
    "circuit = google_circuit(m, n, depth)\n",
    "state = GraphState(connectivities)\n",
    "apply!(circuit, state)\n",
    "amps = amplitudes(state, basis, scaling=sqrt(2), cut=[(25, 33), (26, 34), (27, 35), (28, 36), (29, 37)])"
   ]
  },
  {
   "cell_type": "code",
   "execution_count": 9,
   "metadata": {},
   "outputs": [
    {
     "name": "stdout",
     "output_type": "stream",
     "text": [
      "contraction path [1, 9, 17, 25, 2, 10, 18, 26, 3, 11, 19, 27, 4, 12, 20, 28, 5, 13, 21, 29, 6, 14, 22, 30, 7, 15, 23, 31, 8, 16, 24, 32, 40, 48, 56, 64, 39, 47, 55, 63, 38, 46, 54, 62, 37, 45, 53, 61, 36, 44, 52, 60, 35, 43, 51, 59, 34, 42, 50, 58, 33, 41, 49, 57]\n"
     ]
    }
   ],
   "source": [
    "# specify a contraction path\n",
    "using Meteor.QuantumCircuit: linear_index\n",
    "rowmajor = false\n",
    "contract_path = Int[]\n",
    "shape = (m, n)\n",
    "for i in 1:8\n",
    "    for j in 1:4\n",
    "        push!(contract_path, linear_index(shape, (i, j), rowmajor))\n",
    "    end\n",
    "end\n",
    "for i in 8:-1:1\n",
    "    for j in 5:8\n",
    "        push!(contract_path, linear_index(shape, (i, j), rowmajor))\n",
    "    end\n",
    "end\n",
    "\n",
    "println(\"contraction path $contract_path\")"
   ]
  },
  {
   "cell_type": "code",
   "execution_count": 10,
   "metadata": {},
   "outputs": [
    {
     "data": {
      "text/plain": [
       "5-element Array{Complex{Float64},1}:\n",
       " -0.4878905043513411 - 0.46627691790485726im\n",
       " -0.7030590318055655 - 0.5036015010984863im\n",
       " -0.8362485520894685 - 0.01958872914071723im\n",
       "   1.021664075928392 - 0.2541595275158609im\n",
       " -1.0184801660854264 - 0.3303595979218258im"
      ]
     },
     "execution_count": 10,
     "metadata": {},
     "output_type": "execute_result"
    }
   ],
   "source": [
    "amps = amplitudes(state, basis, scaling=sqrt(2), cut=[(25, 33), (26, 34), (27, 35), (28, 36), (29, 37)], path=contract_path)"
   ]
  }
 ],
 "metadata": {
  "kernelspec": {
   "display_name": "Julia 1.4.0",
   "language": "julia",
   "name": "julia-1.4"
  },
  "language_info": {
   "file_extension": ".jl",
   "mimetype": "application/julia",
   "name": "julia",
   "version": "1.4.0"
  }
 },
 "nbformat": 4,
 "nbformat_minor": 2
}
