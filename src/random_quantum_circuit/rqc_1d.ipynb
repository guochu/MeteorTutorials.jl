{
 "cells": [
  {
   "cell_type": "code",
   "execution_count": 1,
   "metadata": {},
   "outputs": [
    {
     "name": "stderr",
     "output_type": "stream",
     "text": [
      "┌ Info: Precompiling Meteor [top-level]\n",
      "└ @ Base loading.jl:1260\n"
     ]
    }
   ],
   "source": [
    "push!(LOAD_PATH, \"../../src\")\n",
    "using Meteor.TensorNetwork\n",
    "using Meteor.QuantumCircuit"
   ]
  },
  {
   "cell_type": "code",
   "execution_count": 2,
   "metadata": {},
   "outputs": [
    {
     "data": {
      "text/plain": [
       "QCircuit(AbstractGate[HGate(1), HGate(2), HGate(3), HGate(4), HGate(5), HGate(6), HGate(7), HGate(8), HGate(9), HGate(10)  …  HGate(11), HGate(12), HGate(13), HGate(14), HGate(15), HGate(16), HGate(17), HGate(18), HGate(19), HGate(20)])"
      ]
     },
     "execution_count": 2,
     "metadata": {},
     "output_type": "execute_result"
    }
   ],
   "source": [
    "function random_circuit_1d(L::Int, depth::Int)\n",
    "    circuit = QCircuit()\n",
    "    for i in 1:L\n",
    "        push!(circuit, HGate(i))\n",
    "    end\n",
    "    for d in 1:depth\n",
    "        if d % 2 == 0\n",
    "            for i in 1:2:L-1\n",
    "                push!(circuit, CZGate((i, i+1)))\n",
    "            end\n",
    "        else\n",
    "            for i in 2:2:L-1\n",
    "                push!(circuit, CZGate((i, i+1)))\n",
    "            end\n",
    "        end\n",
    "        for i in 1:L\n",
    "            push!(circuit, rand([SqrtXGate(i), SqrtYGate(i), TGate(i)]))\n",
    "        end\n",
    "    end\n",
    "    for i in 1:L\n",
    "        push!(circuit, HGate(i))\n",
    "    end   \n",
    "    return circuit\n",
    "end\n",
    "\n",
    "L = 20\n",
    "depth = 10\n",
    "\n",
    "circuit = random_circuit_1d(L, depth)\n"
   ]
  },
  {
   "cell_type": "code",
   "execution_count": 3,
   "metadata": {
    "scrolled": true
   },
   "outputs": [
    {
     "name": "stdout",
     "output_type": "stream",
     "text": [
      "total number of gates 335.\n",
      "number of gates after gate fusion 95.\n"
     ]
    }
   ],
   "source": [
    "# gate fusion\n",
    "println(\"total number of gates $(length(circuit)).\")\n",
    "pcircuit = fuse_gate(circuit)\n",
    "println(\"number of gates after gate fusion $(length(pcircuit)).\")"
   ]
  },
  {
   "cell_type": "code",
   "execution_count": 4,
   "metadata": {},
   "outputs": [
    {
     "name": "stdout",
     "output_type": "stream",
     "text": [
      "generate 5 random basis...\n"
     ]
    },
    {
     "data": {
      "text/plain": [
       "5-element Array{Array{Int64,1},1}:\n",
       " [1, 1, 0, 0, 1, 0, 0, 1, 1, 1, 1, 1, 1, 0, 0, 1, 0, 1, 0, 0]\n",
       " [0, 1, 1, 1, 1, 0, 0, 0, 1, 0, 0, 0, 1, 1, 0, 1, 0, 1, 0, 0]\n",
       " [1, 1, 0, 0, 1, 1, 0, 0, 0, 1, 0, 1, 1, 1, 1, 0, 1, 0, 0, 1]\n",
       " [0, 1, 0, 0, 0, 0, 0, 1, 0, 1, 1, 1, 0, 1, 1, 1, 1, 1, 1, 1]\n",
       " [1, 1, 1, 0, 0, 0, 0, 0, 1, 1, 0, 0, 1, 0, 0, 0, 1, 1, 1, 0]"
      ]
     },
     "execution_count": 4,
     "metadata": {},
     "output_type": "execute_result"
    }
   ],
   "source": [
    "# generate some random basis\n",
    "N = 5\n",
    "println(\"generate $N random basis...\")\n",
    "basis = [rand(0:1, L) for i in 1:5]"
   ]
  },
  {
   "cell_type": "code",
   "execution_count": 5,
   "metadata": {},
   "outputs": [
    {
     "data": {
      "text/plain": [
       "5-element Array{Complex{Float64},1}:\n",
       "  0.23368513584136993 - 0.29294875264167825im\n",
       " -0.05345398187637336 - 0.5593312978744515im\n",
       "   0.8881338834762585 + 0.20368036627769498im\n",
       " 0.027851372957229652 + 0.023734837770462067im\n",
       "   0.1301990598440172 + 0.4933649599552161im"
      ]
     },
     "execution_count": 5,
     "metadata": {},
     "output_type": "execute_result"
    }
   ],
   "source": [
    "#  state vector simulation\n",
    "state = statevector(ComplexF32, L)\n",
    "apply!(pcircuit, state)\n",
    "\n",
    "amps = amplitudes(state, basis, scaling=sqrt(2))"
   ]
  },
  {
   "cell_type": "code",
   "execution_count": 6,
   "metadata": {},
   "outputs": [
    {
     "data": {
      "text/plain": [
       "5-element Array{Complex{Float32},1}:\n",
       "   0.23368499f0 - 0.29294878f0im\n",
       " -0.053453244f0 - 0.55933124f0im\n",
       "    0.8881341f0 + 0.20368046f0im\n",
       "   0.02785147f0 + 0.023734808f0im\n",
       "   0.13019904f0 + 0.4933649f0im"
      ]
     },
     "execution_count": 6,
     "metadata": {},
     "output_type": "execute_result"
    }
   ],
   "source": [
    "# matrix product states simulation\n",
    "state = qstate(ComplexF32, L)\n",
    "apply!(pcircuit, state)\n",
    "\n",
    "amps = amplitudes(state, basis, scaling=sqrt(2))"
   ]
  },
  {
   "cell_type": "code",
   "execution_count": 7,
   "metadata": {},
   "outputs": [
    {
     "data": {
      "text/plain": [
       "5-element Array{Complex{Float32},1}:\n",
       "   0.23368528f0 - 0.29294714f0im\n",
       " -0.053455766f0 - 0.5593334f0im\n",
       "    0.8881351f0 + 0.20368269f0im\n",
       "  0.027847165f0 + 0.02373621f0im\n",
       "   0.13020033f0 + 0.49336505f0im"
      ]
     },
     "execution_count": 7,
     "metadata": {},
     "output_type": "execute_result"
    }
   ],
   "source": [
    "# PEPS simulation\n",
    "connectivities = [(i, i+1) for i in 1:L-1]\n",
    "state = GraphState(ComplexF32, connectivities)\n",
    "apply!(pcircuit, state)\n",
    "\n",
    "amps = amplitudes(state, basis, scaling=sqrt(2))"
   ]
  },
  {
   "cell_type": "code",
   "execution_count": 8,
   "metadata": {},
   "outputs": [
    {
     "data": {
      "text/plain": [
       "5-element Array{Complex{Float32},1}:\n",
       "   0.23368531f0 - 0.29294714f0im\n",
       " -0.053456232f0 - 0.55933356f0im\n",
       "   0.88813514f0 + 0.20368266f0im\n",
       "  0.027847365f0 + 0.02373673f0im\n",
       "   0.13020019f0 + 0.49336475f0im"
      ]
     },
     "execution_count": 8,
     "metadata": {},
     "output_type": "execute_result"
    }
   ],
   "source": [
    "amps = amplitudes(state, basis, scaling=sqrt(2), cut=[(3,4)])"
   ]
  },
  {
   "cell_type": "code",
   "execution_count": null,
   "metadata": {},
   "outputs": [],
   "source": []
  }
 ],
 "metadata": {
  "kernelspec": {
   "display_name": "Julia 1.4.0",
   "language": "julia",
   "name": "julia-1.4"
  },
  "language_info": {
   "file_extension": ".jl",
   "mimetype": "application/julia",
   "name": "julia",
   "version": "1.4.0"
  }
 },
 "nbformat": 4,
 "nbformat_minor": 2
}
