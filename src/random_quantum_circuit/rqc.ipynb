{
 "cells": [
  {
   "cell_type": "markdown",
   "metadata": {},
   "source": [
    "# OutLine\n",
    "1. Introduction to Random Quantum Circuits\n",
    "2. Projected Entangled Pair States Method\n",
    "3. Complexity Analysis\n",
    "4. Numerical Results"
   ]
  },
  {
   "cell_type": "code",
   "execution_count": 1,
   "metadata": {},
   "outputs": [],
   "source": [
    "include(\"../find_meteor.jl\")\n",
    "using Meteor.TensorNetwork\n",
    "using Meteor.QuantumCircuit"
   ]
  },
  {
   "cell_type": "markdown",
   "metadata": {},
   "source": [
    "# Introduction to Random Quantum Circuits\n",
    "    \n",
    "1. Finding a problem which is very hard to solve with the best supercomputer in the world, but can be efficiently solved with a quantum computer.\n",
    "2. Random quantum circuit (**RQCs**) sampling problem is a standard problem used to demonstrate quantum supremacy in near term.\n",
    "3. We propose to use Projected Entangled Pair States (**PEPS**) to study large-scale RQCs.\n",
    "\n",
    "The random quantum circuit proposed in [Characterizing Quantum Supremacy in Near-Term Devices](arXiv:1608.00263v3)\n",
    "![google circuit](GoogleCircuitH.png)\n",
    "\n",
    "Rules for $L_h\\times L_v$ circuit:\n",
    "1. Apply a Hadamard gate to each qubit to initialize the qubits to a symmetric superposition.\n",
    "2. Apply controlled-phase (CZ) gates alternating between $8$ configurations as above entangle neighbouring qubits.\n",
    "3. Apply a randomly chosen gate ($T$, $\\sqrt{X}$ or $\\sqrt{Y}$) to each qubit on which the CZ gates has not just been applied, according to certain rules.\n",
    "4. Repeat steps 2 and 3 to add layers of depth to the circuit.\n",
    "5. Apply a final Hadamard gate to each qubit."
   ]
  },
  {
   "cell_type": "code",
   "execution_count": 2,
   "metadata": {},
   "outputs": [
    {
     "data": {
      "text/plain": [
       "google_circuit (generic function with 1 method)"
      ]
     },
     "execution_count": 2,
     "metadata": {},
     "output_type": "execute_result"
    }
   ],
   "source": [
    "function google_circuit(m::Int, n::Int, depth::Int)\n",
    "    XYT = Dict(0=>sqrtX, 1=>sqrtY, 2=>T)\n",
    "    Xoperated = zeros(Bool, m, n)\n",
    "    Yoperated = zeros(Bool, m, n)\n",
    "    Toperated = zeros(Bool, m, n)\n",
    "    CZoperated = zeros(Bool, m, n)\n",
    "\n",
    "    ControlZ = CZ\n",
    "    config1 = []\n",
    "    config2 = []\n",
    "    config3 = []\n",
    "    config4 = []\n",
    "    config5 = []\n",
    "    config6 = []\n",
    "    config7 = []\n",
    "    config8 = []\n",
    "    config1sites = []\n",
    "    config2sites = []\n",
    "    config3sites = []\n",
    "    config4sites = []\n",
    "    config5sites = []\n",
    "    config6sites = []\n",
    "    config7sites = []\n",
    "    config8sites = []\n",
    "    toind(i,j) = linear_index((m, n), (i, j), false)\n",
    "\n",
    "    # 1 configuration\n",
    "    for jj in 0:2:(n-2)\n",
    "        for ii in ((div(jj,2)+1)%2):2:(m-1)\n",
    "            i = ii + 1\n",
    "            j = jj + 1\n",
    "            push!(config1, ((toind(i, j), toind(i, j+1)), ControlZ))\n",
    "            push!(config1sites, (i, j))\n",
    "            push!(config1sites, (i, j+1))\n",
    "        end\n",
    "    end\n",
    "\n",
    "    # 2 configuration\n",
    "    for jj in 0:2:(n-2)\n",
    "        for ii in ((div(jj,2))%2):2:(m-1)\n",
    "            i = ii + 1\n",
    "            j = jj + 1\n",
    "            push!(config2, ((toind(i, j), toind(i, j+1)), ControlZ))\n",
    "            push!(config2sites, (i, j))\n",
    "            push!(config2sites, (i, j+1))\n",
    "        end\n",
    "    end\n",
    "\n",
    "    # 5 configuration\n",
    "    for jj in 1:2:(n-2)\n",
    "        for ii in ((div(jj,2)+1)%2):2:(m-1)\n",
    "            i = ii + 1\n",
    "            j = jj + 1\n",
    "            push!(config5, ((toind(i, j), toind(i, j+1)), ControlZ))\n",
    "            push!(config5sites, (i, j))\n",
    "            push!(config5sites, (i, j+1))\n",
    "        end\n",
    "    end\n",
    "\n",
    "    # 6 configuration\n",
    "    for jj in 1:2:(n-2)\n",
    "        for ii in (((div(jj,2)))%2):2:(m-1)\n",
    "            i = ii + 1\n",
    "            j = jj + 1\n",
    "            push!(config6, ((toind(i, j), toind(i, j+1)), ControlZ))\n",
    "            push!(config6sites, (i, j))\n",
    "            push!(config6sites, (i, j+1))\n",
    "        end\n",
    "    end\n",
    "\n",
    "    # 3 configuration\n",
    "    for ii in 1:2:(m-2)\n",
    "        for jj in ((div(ii,2)+1)%2):2:(n-1)\n",
    "            i = ii + 1\n",
    "            j = jj + 1\n",
    "            push!(config3, ((toind(i, j), toind(i+1, j)), ControlZ))\n",
    "            push!(config3sites, (i, j))\n",
    "            push!(config3sites, (i+1, j))\n",
    "        end\n",
    "    end\n",
    "\n",
    "    # 4 configuration\n",
    "    for ii in 1:2:(m-2)\n",
    "        for jj in ((div(ii,2))%2):2:(n-1)\n",
    "            i = ii + 1\n",
    "            j = jj + 1\n",
    "            push!(config4, ((toind(i, j), toind(i+1, j)), ControlZ))\n",
    "            push!(config4sites, (i, j))\n",
    "            push!(config4sites, (i+1, j))\n",
    "        end\n",
    "    end\n",
    "\n",
    "    # 7 configuration\n",
    "    for ii in 0:2:(m-2)\n",
    "        for jj in ((div(ii,2))%2):2:(n-1)\n",
    "            i = ii + 1\n",
    "            j = jj + 1\n",
    "            push!(config7, ((toind(i, j), toind(i+1, j)), ControlZ))\n",
    "            push!(config7sites, (i, j))\n",
    "            push!(config7sites, (i+1, j))\n",
    "        end\n",
    "    end\n",
    "\n",
    "    # 8 configuration\n",
    "    for ii in 0:2:(m-2)\n",
    "        for jj in ((div(ii,2)+1)%2):2:(n-1)\n",
    "            i = ii + 1\n",
    "            j = jj + 1\n",
    "            push!(config8, ((toind(i, j), toind(i+1, j)), ControlZ))\n",
    "            push!(config8sites, (i, j))\n",
    "            push!(config8sites, (i+1, j))\n",
    "        end\n",
    "    end\n",
    "\n",
    "    configs=[(config1, config1sites), (config2, config2sites), (config3, config3sites),\n",
    "        (config4, config4sites), (config5, config5sites), (config6, config6sites),\n",
    "        (config7, config7sites), (config8, config8sites)]\n",
    "\n",
    "    function __generate_one_body_gates()\n",
    "        one_body_gates = []\n",
    "        tmpXoperated = zeros(Bool, m, n)\n",
    "        tmpYoperated = zeros(Bool, m, n)\n",
    "        for i in 1:m\n",
    "            for j in 1:n\n",
    "                # Place a gate at qubit q only if this qubit is\n",
    "                # occupied by a CZ gate in the previous cycle\n",
    "                if CZoperated[i, j]\n",
    "                    # Place a T gate at qubit q if there are no single\n",
    "                    # qubit gates in the previous cycles at qubit q except\n",
    "                    # for the initial cycle of Hadamard gates\n",
    "                    if !Toperated[i, j]\n",
    "                        push!(one_body_gates, (toind(i, j), XYT[2]))\n",
    "                        Toperated[i, j] = true\n",
    "                    else\n",
    "                        # Any gate at qubit q should be different from\n",
    "                        # the gate at qubit q in the previous cycle.\n",
    "                        if tmpXoperated[i, j]\n",
    "                            push!(one_body_gates, (toind(i, j), XYT[1]))\n",
    "                            tmpYoperated[i, j] = true\n",
    "                        else\n",
    "                            if tmpYoperated[i, j]\n",
    "                                push!(one_body_gates, (toind(i, j), XYT[0]))\n",
    "                                tmpXoperated[i, j] = true\n",
    "                            else\n",
    "                                r = rand(0:1)\n",
    "                                push!(one_body_gates, (toind(i, j), XYT[0]))\n",
    "                                if r == 0\n",
    "                                    tmpXoperated[i, j] = true\n",
    "                                else\n",
    "                                    tmpYoperated[i, j] = true\n",
    "                                end\n",
    "                            end\n",
    "                        end\n",
    "                    end\n",
    "                end\n",
    "            end\n",
    "        end\n",
    "        Xoperated = tmpXoperated\n",
    "        Yoperated = tmpYoperated\n",
    "        return one_body_gates\n",
    "    end\n",
    "\n",
    "\n",
    "    circuit = QCircuit()\n",
    "    for i in 1:m\n",
    "        for j in 1:n\n",
    "            push!(circuit, (toind(i, j), H))\n",
    "        end\n",
    "    end\n",
    "    for i in 0:(depth-1)\n",
    "        present_config = i % 8 + 1\n",
    "        # println(\"present config is $present_config\")\n",
    "        config, configsites = configs[present_config]\n",
    "        fill!(CZoperated, false)\n",
    "        for item in configsites\n",
    "            CZoperated[item...] = true\n",
    "        end\n",
    "        one_body_gates = __generate_one_body_gates()\n",
    "        for item in one_body_gates\n",
    "            push!(circuit, item)\n",
    "        end\n",
    "        for item in config\n",
    "            push!(circuit, item)\n",
    "        end\n",
    "        # append!(circuit, one_body_gates)\n",
    "        # append!(circuit, config)\n",
    "    end\n",
    "    for i in 1:m\n",
    "        for j in 1:n\n",
    "            push!(circuit, (toind(i, j), H))\n",
    "        end\n",
    "    end\n",
    "    return circuit\n",
    "end"
   ]
  },
  {
   "cell_type": "markdown",
   "metadata": {},
   "source": [
    "# Projected Entangled Pair States Method\n",
    "\n",
    "Introduction to PEPS:\n",
    "The PEPS-based quantum circuit simulator can be described as the following figure ![PEPS](FigPEPS.png)"
   ]
  },
  {
   "cell_type": "markdown",
   "metadata": {},
   "source": [
    "# Complexity Analysis\n",
    "\n",
    "The quantum state is stored as ![f1](psi.jpg)\n",
    "1. Classical numerical complexity of gate operations $\\mathcal{O}(\\chi^4)$, with $\\chi=\\max\\left({\\rm dim}(l), {\\rm dim}(r), {\\rm dim}(u), {\\rm dim}(d)\\right)$\n",
    "2. Classical numerical complexity of computing one amplitude ![f2](complexity.jpg)\n",
    "\n",
    "Frontier of quantum supremacy ![f3](FigData.png)"
   ]
  },
  {
   "cell_type": "markdown",
   "metadata": {},
   "source": [
    "Generating a $m\\times n\\times depth$ circuit"
   ]
  },
  {
   "cell_type": "code",
   "execution_count": 3,
   "metadata": {},
   "outputs": [
    {
     "name": "stdout",
     "output_type": "stream",
     "text": [
      "total number of gate operations 632.\n"
     ]
    }
   ],
   "source": [
    "m = 8\n",
    "n = 8\n",
    "depth = 12\n",
    "\n",
    "circuit = google_circuit(m, n, depth)\n",
    "println(\"total number of gate operations $(length(circuit)).\")"
   ]
  },
  {
   "cell_type": "markdown",
   "metadata": {},
   "source": [
    "**Gate fusion technique**-Absorbing one-body gate operations into two-body gate operations"
   ]
  },
  {
   "cell_type": "code",
   "execution_count": 4,
   "metadata": {
    "scrolled": false
   },
   "outputs": [
    {
     "name": "stdout",
     "output_type": "stream",
     "text": [
      "total number of gates 632.\n",
      "number of gates after gate fusion 168.\n"
     ]
    }
   ],
   "source": [
    "println(\"total number of gates $(length(circuit)).\")\n",
    "circuit = fuse_gate(circuit)\n",
    "println(\"number of gates after gate fusion $(length(circuit)).\")"
   ]
  },
  {
   "cell_type": "markdown",
   "metadata": {},
   "source": [
    "Specifying the topology of the circuit"
   ]
  },
  {
   "cell_type": "code",
   "execution_count": 5,
   "metadata": {
    "scrolled": true
   },
   "outputs": [
    {
     "name": "stdout",
     "output_type": "stream",
     "text": [
      "[(1, 2), (2, 3), (3, 4), (4, 5), (5, 6), (6, 7), (7, 8), (9, 10), (10, 11), (11, 12), (12, 13), (13, 14), (14, 15), (15, 16), (17, 18), (18, 19), (19, 20), (20, 21), (21, 22), (22, 23), (23, 24), (25, 26), (26, 27), (27, 28), (28, 29), (29, 30), (30, 31), (31, 32), (33, 34), (34, 35), (35, 36), (36, 37), (37, 38), (38, 39), (39, 40), (41, 42), (42, 43), (43, 44), (44, 45), (45, 46), (46, 47), (47, 48), (49, 50), (50, 51), (51, 52), (52, 53), (53, 54), (54, 55), (55, 56), (57, 58), (58, 59), (59, 60), (60, 61), (61, 62), (62, 63), (63, 64), (1, 9), (2, 10), (3, 11), (4, 12), (5, 13), (6, 14), (7, 15), (8, 16), (9, 17), (10, 18), (11, 19), (12, 20), (13, 21), (14, 22), (15, 23), (16, 24), (17, 25), (18, 26), (19, 27), (20, 28), (21, 29), (22, 30), (23, 31), (24, 32), (25, 33), (26, 34), (27, 35), (28, 36), (29, 37), (30, 38), (31, 39), (32, 40), (33, 41), (34, 42), (35, 43), (36, 44), (37, 45), (38, 46), (39, 47), (40, 48), (41, 49), (42, 50), (43, 51), (44, 52), (45, 53), (46, 54), (47, 55), (48, 56), (49, 57), (50, 58), (51, 59), (52, 60), (53, 61), (54, 62), (55, 63), (56, 64)]\n"
     ]
    }
   ],
   "source": [
    "connectivities = square_connectivity(m, n)\n",
    "println(connectivities)"
   ]
  },
  {
   "cell_type": "markdown",
   "metadata": {},
   "source": [
    "Initializing the quantum state represented as a tensor network"
   ]
  },
  {
   "cell_type": "code",
   "execution_count": 6,
   "metadata": {},
   "outputs": [
    {
     "data": {
      "text/plain": [
       "GraphState{Complex{Float32}}({64, 112} undirected simple Int64 graph, IndexedTensor{Complex{Float32},N} where N[IndexedTensor{Complex{Float32},3}(Complex{Float32}[1.0f0 + 0.0f0im; 0.0f0 + 0.0f0im], (1, 2, 3)), IndexedTensor{Complex{Float32},4}(Complex{Float32}[1.0f0 + 0.0f0im; 0.0f0 + 0.0f0im], (4, 2, 5, 6)), IndexedTensor{Complex{Float32},4}(Complex{Float32}[1.0f0 + 0.0f0im; 0.0f0 + 0.0f0im], (7, 5, 8, 9)), IndexedTensor{Complex{Float32},4}(Complex{Float32}[1.0f0 + 0.0f0im; 0.0f0 + 0.0f0im], (10, 8, 11, 12)), IndexedTensor{Complex{Float32},4}(Complex{Float32}[1.0f0 + 0.0f0im; 0.0f0 + 0.0f0im], (13, 11, 14, 15)), IndexedTensor{Complex{Float32},4}(Complex{Float32}[1.0f0 + 0.0f0im; 0.0f0 + 0.0f0im], (16, 14, 17, 18)), IndexedTensor{Complex{Float32},4}(Complex{Float32}[1.0f0 + 0.0f0im; 0.0f0 + 0.0f0im], (19, 17, 20, 21)), IndexedTensor{Complex{Float32},3}(Complex{Float32}[1.0f0 + 0.0f0im; 0.0f0 + 0.0f0im], (22, 20, 23)), IndexedTensor{Complex{Float32},4}(Complex{Float32}[1.0f0 + 0.0f0im; 0.0f0 + 0.0f0im], (24, 3, 25, 26)), IndexedTensor{Complex{Float32},5}(Complex{Float32}[1.0f0 + 0.0f0im; 0.0f0 + 0.0f0im], (27, 6, 25, 28, 29))  …  IndexedTensor{Complex{Float32},5}(Complex{Float32}[1.0f0 + 0.0f0im; 0.0f0 + 0.0f0im], (157, 136, 155, 158, 159)), IndexedTensor{Complex{Float32},4}(Complex{Float32}[1.0f0 + 0.0f0im; 0.0f0 + 0.0f0im], (160, 138, 158, 161)), IndexedTensor{Complex{Float32},3}(Complex{Float32}[1.0f0 + 0.0f0im; 0.0f0 + 0.0f0im], (162, 141, 163)), IndexedTensor{Complex{Float32},4}(Complex{Float32}[1.0f0 + 0.0f0im; 0.0f0 + 0.0f0im], (164, 144, 163, 165)), IndexedTensor{Complex{Float32},4}(Complex{Float32}[1.0f0 + 0.0f0im; 0.0f0 + 0.0f0im], (166, 147, 165, 167)), IndexedTensor{Complex{Float32},4}(Complex{Float32}[1.0f0 + 0.0f0im; 0.0f0 + 0.0f0im], (168, 150, 167, 169)), IndexedTensor{Complex{Float32},4}(Complex{Float32}[1.0f0 + 0.0f0im; 0.0f0 + 0.0f0im], (170, 153, 169, 171)), IndexedTensor{Complex{Float32},4}(Complex{Float32}[1.0f0 + 0.0f0im; 0.0f0 + 0.0f0im], (172, 156, 171, 173)), IndexedTensor{Complex{Float32},4}(Complex{Float32}[1.0f0 + 0.0f0im; 0.0f0 + 0.0f0im], (174, 159, 173, 175)), IndexedTensor{Complex{Float32},3}(Complex{Float32}[1.0f0 + 0.0f0im; 0.0f0 + 0.0f0im], (176, 161, 175))], [1, 2, 3, 4, 5, 6, 7, 8, 9, 10  …  55, 56, 57, 58, 59, 60, 61, 62, 63, 64])"
      ]
     },
     "execution_count": 6,
     "metadata": {},
     "output_type": "execute_result"
    }
   ],
   "source": [
    "state = GraphState(ComplexF32, connectivities)"
   ]
  },
  {
   "cell_type": "markdown",
   "metadata": {},
   "source": [
    "Applying the circuit onto the quantum state"
   ]
  },
  {
   "cell_type": "code",
   "execution_count": 7,
   "metadata": {},
   "outputs": [
    {
     "data": {
      "text/plain": [
       "168-element Array{Tuple{Int64,Float64},1}:\n",
       " (2, 0.0)\n",
       " (2, 0.0)\n",
       " (2, 0.0)\n",
       " (2, 0.0)\n",
       " (2, 0.0)\n",
       " (2, 0.0)\n",
       " (2, 0.0)\n",
       " (2, 0.0)\n",
       " (2, 0.0)\n",
       " (2, 0.0)\n",
       " (2, 0.0)\n",
       " (2, 0.0)\n",
       " (2, 0.0)\n",
       " ⋮\n",
       " (10, 1.875618301148377e-15)\n",
       " (8, 2.528081639429497e-15)\n",
       " (10, 2.2304984245100903e-15)\n",
       " (6, 0.0)\n",
       " (10, 4.460998543086075e-15)\n",
       " (8, 3.006413003205262e-15)\n",
       " (10, 1.8756185129066138e-15)\n",
       " (6, 0.0)\n",
       " (4, 1.234073954137216e-10)\n",
       " (8, 0.0)\n",
       " (6, 0.0)\n",
       " (5, 2.5164171094105292e-11)"
      ]
     },
     "execution_count": 7,
     "metadata": {},
     "output_type": "execute_result"
    }
   ],
   "source": [
    "apply!(circuit, state)"
   ]
  },
  {
   "cell_type": "markdown",
   "metadata": {},
   "source": [
    "Computing amplitudes"
   ]
  },
  {
   "cell_type": "code",
   "execution_count": 8,
   "metadata": {},
   "outputs": [
    {
     "data": {
      "text/plain": [
       "5-element Array{Complex{Float32},1}:\n",
       " -0.44874358f0 - 0.014058113f0im\n",
       "  0.07292746f0 + 0.043092266f0im\n",
       "  -0.2113406f0 - 1.217452f0im\n",
       "   -0.972785f0 - 0.8453204f0im\n",
       " -0.38062093f0 - 0.28016192f0im"
      ]
     },
     "execution_count": 8,
     "metadata": {},
     "output_type": "execute_result"
    }
   ],
   "source": [
    "L = m * n\n",
    "basis = [rand(0:1, L) for i in 1:5]\n",
    "amps = amplitudes(state, basis, scaling=sqrt(2))"
   ]
  },
  {
   "cell_type": "markdown",
   "metadata": {},
   "source": [
    "Specifying a **contraction path**\n",
    "\n",
    "For example, as ![f4](contraction_path.png)"
   ]
  },
  {
   "cell_type": "code",
   "execution_count": 9,
   "metadata": {},
   "outputs": [
    {
     "name": "stdout",
     "output_type": "stream",
     "text": [
      "contraction path [1, 9, 17, 25, 2, 10, 18, 26, 3, 11, 19, 27, 4, 12, 20, 28, 5, 13, 21, 29, 6, 14, 22, 30, 7, 15, 23, 31, 8, 16, 24, 32, 40, 48, 56, 64, 39, 47, 55, 63, 38, 46, 54, 62, 37, 45, 53, 61, 36, 44, 52, 60, 35, 43, 51, 59, 34, 42, 50, 58, 33, 41, 49, 57]\n"
     ]
    },
    {
     "data": {
      "text/plain": [
       "5-element Array{Complex{Float64},1}:\n",
       " -0.44874350400304563 - 0.01405791410866053im\n",
       "  0.07292721219510856 + 0.04309175396405163im\n",
       " -0.21134013127713946 - 1.2174510827983864im\n",
       "  -0.9727855025067544 - 0.8453202836485803im\n",
       "  -0.3806203092880014 - 0.2801625288144569im"
      ]
     },
     "execution_count": 9,
     "metadata": {},
     "output_type": "execute_result"
    }
   ],
   "source": [
    "using Meteor.QuantumCircuit: linear_index\n",
    "rowmajor = false\n",
    "contract_path = Int[]\n",
    "sp = (m, n)\n",
    "for i in 1:8\n",
    "    for j in 1:4\n",
    "        push!(contract_path, linear_index(sp, (i, j), rowmajor))\n",
    "    end\n",
    "end\n",
    "\n",
    "for i in 8:-1:1\n",
    "    for j in 5:8\n",
    "        push!(contract_path, linear_index(sp, (i, j), rowmajor))\n",
    "    end\n",
    "end\n",
    "\n",
    "println(\"contraction path $contract_path\")\n",
    "amps = amplitudes(state, basis, scaling=sqrt(2), cut=[(25, 33), (26, 34)], path=contract_path)"
   ]
  },
  {
   "cell_type": "markdown",
   "metadata": {},
   "source": [
    "# Results on $8\\times 8 \\times 25$ circuits\n",
    "\n",
    "Small-scale implementation, showing Proter-Thomas distribution for $8\\times 8$ circuit of $25$ depth with $10000$ random samples ![f5](gumbel.png)"
   ]
  },
  {
   "cell_type": "code",
   "execution_count": 10,
   "metadata": {},
   "outputs": [
    {
     "name": "stdout",
     "output_type": "stream",
     "text": [
      "total number of gate operations 1136.\n"
     ]
    },
    {
     "ename": "InterruptException",
     "evalue": "InterruptException:",
     "output_type": "error",
     "traceback": [
      "InterruptException:",
      "",
      "Stacktrace:",
      " [1] _mapreduce_block!(::Any, ::Any, ::Any, ::NTuple{8,Int64}, ::Tuple{NTuple{8,Int64},NTuple{8,Int64}}, ::Tuple{Strided.UnsafeStridedView{Complex{Float32},8,Complex{Float32},typeof(identity)},Strided.UnsafeStridedView{Complex{Float32},8,Complex{Float32},typeof(identity)}}) at /Users/guochu/.julia/packages/Strided/E5jg0/src/mapreduce.jl:131",
      " [2] _mapreduce_order!(::Any, ::Any, ::Any, ::NTuple{8,Int64}, ::Tuple{NTuple{8,Int64},NTuple{8,Int64}}, ::Tuple{Strided.UnsafeStridedView{Complex{Float32},8,Complex{Float32},typeof(identity)},Strided.UnsafeStridedView{Complex{Float32},8,Complex{Float32},typeof(identity)}}) at /Users/guochu/.julia/packages/Strided/E5jg0/src/mapreduce.jl:116",
      " [3] _mapreduce_fuse!(::Any, ::Any, ::Any, ::NTuple{8,Int64}, ::Tuple{Strided.UnsafeStridedView{Complex{Float32},8,Complex{Float32},typeof(identity)},Strided.UnsafeStridedView{Complex{Float32},8,Complex{Float32},typeof(identity)}}) at /Users/guochu/.julia/packages/Strided/E5jg0/src/mapreduce.jl:96",
      " [4] map! at /Users/guochu/.julia/packages/Strided/E5jg0/src/mapreduce.jl:34 [inlined]",
      " [5] copyto! at /Users/guochu/.julia/packages/Strided/E5jg0/src/abstractstridedview.jl:43 [inlined]",
      " [6] mul!(::Strided.UnsafeStridedView{Complex{Float32},8,Complex{Float32},typeof(identity)}, ::Int64, ::Strided.UnsafeStridedView{Complex{Float32},8,Complex{Float32},typeof(identity)}) at /Users/guochu/.julia/packages/Strided/E5jg0/src/abstractstridedview.jl:58",
      " [7] axpby!(::Int64, ::Strided.UnsafeStridedView{Complex{Float32},8,Complex{Float32},typeof(identity)}, ::Int64, ::Strided.UnsafeStridedView{Complex{Float32},8,Complex{Float32},typeof(identity)}) at /Users/guochu/.julia/packages/Strided/E5jg0/src/abstractstridedview.jl:84",
      " [8] _add! at /Users/guochu/.julia/packages/TensorOperations/9ft0x/src/implementation/stridedarray.jl:152 [inlined]",
      " [9] add!(::Int64, ::Array{Complex{Float32},8}, ::Symbol, ::Int64, ::Array{Complex{Float32},8}, ::NTuple{8,Int64}) at /Users/guochu/.julia/packages/TensorOperations/9ft0x/src/implementation/stridedarray.jl:130",
      " [10] add! at /Users/guochu/.julia/packages/TensorOperations/9ft0x/src/implementation/stridedarray.jl:49 [inlined]",
      " [11] contract!(::Bool, ::Array{Complex{Float32},8}, ::Symbol, ::Array{Complex{Float32},4}, ::Symbol, ::Bool, ::Array{Complex{Float32},8}, ::NTuple{6,Int64}, ::Tuple{Int64,Int64}, ::Tuple{Int64,Int64}, ::Tuple{Int64,Int64}, ::NTuple{8,Int64}, ::Nothing) at /Users/guochu/.julia/packages/TensorOperations/9ft0x/src/implementation/stridedarray.jl:299",
      " [12] contract!(::Bool, ::Array{Complex{Float32},8}, ::Symbol, ::Array{Complex{Float32},4}, ::Symbol, ::Bool, ::Array{Complex{Float32},8}, ::NTuple{6,Int64}, ::Tuple{Int64,Int64}, ::Tuple{Int64,Int64}, ::Tuple{Int64,Int64}, ::NTuple{8,Int64}, ::Tuple{}, ::Nothing) at /Users/guochu/.julia/packages/TensorOperations/9ft0x/src/implementation/stridedarray.jl:85",
      " [13] contracttree(::Any, ::Any, ::Any, ::Any, ::Any) at /Users/guochu/.julia/packages/TensorOperations/9ft0x/src/functions/ncon.jl:110",
      " [14] contracttree(::Any, ::Any, ::Any, ::Any, ::Any) at /Users/guochu/.julia/packages/TensorOperations/9ft0x/src/functions/ncon.jl:94 (repeats 25 times)",
      " [15] ncon(::Array{Array{Complex{Float32},N} where N,1}, ::Array{Array{Int64,1},1}, ::Array{Bool,1}, ::Nothing; order::Array{Int64,1}, output::Nothing) at /Users/guochu/.julia/packages/TensorOperations/9ft0x/src/functions/ncon.jl:63",
      " [16] ncon(::Array{IndexedTensor{Complex{Float32},N} where N,1}; kwargs::Base.Iterators.Pairs{Symbol,Array{Int64,1},Tuple{Symbol},NamedTuple{(:order,),Tuple{Array{Int64,1}}}}) at /Users/guochu/Documents/QuantumSimulator/Meteor.jl/src/QuantumCircuit/backends/graph/indexedtensor.jl:17",
      " [17] _contract_tensor_network_impl(::Array{IndexedTensor{Complex{Float32},N} where N,1}; kwargs::Base.Iterators.Pairs{Symbol,Array{Int64,1},Tuple{Symbol},NamedTuple{(:order,),Tuple{Array{Int64,1}}}}) at /Users/guochu/Documents/QuantumSimulator/Meteor.jl/src/QuantumCircuit/backends/graph/indexedtensor.jl:143",
      " [18] _contract_tensor_network_impl(::Meteor.QuantumCircuit.CutTensorNetwork{Array{IndexedTensor{Complex{Float32},N} where N,1},3}; kwargs::Base.Iterators.Pairs{Symbol,Array{Int64,1},Tuple{Symbol},NamedTuple{(:order,),Tuple{Array{Int64,1}}}}) at /Users/guochu/Documents/QuantumSimulator/Meteor.jl/src/QuantumCircuit/backends/graph/cut.jl:120",
      " [19] contract_tensor_network(::Array{IndexedTensor{Complex{Float32},N} where N,1}; cut::Array{Tuple{Int64,Int64},1}, path::Array{Int64,1}, kwargs::Base.Iterators.Pairs{Union{},Union{},Tuple{},NamedTuple{(),Tuple{}}}) at /Users/guochu/Documents/QuantumSimulator/Meteor.jl/src/QuantumCircuit/backends/graph/cut.jl:151",
      " [20] amplitude(::GraphState{Complex{Float32}}, ::Array{Int64,1}; scaling::Float64, kwargs::Base.Iterators.Pairs{Symbol,Array{T,1} where T,Tuple{Symbol,Symbol},NamedTuple{(:cut, :path),Tuple{Array{Tuple{Int64,Int64},1},Array{Int64,1}}}}) at /Users/guochu/Documents/QuantumSimulator/Meteor.jl/src/QuantumCircuit/backends/graph/observer.jl:32",
      " [21] #21 at ./none:0 [inlined]",
      " [22] iterate at ./generator.jl:47 [inlined]",
      " [23] collect(::Base.Generator{Array{Array{Int64,1},1},Meteor.QuantumCircuit.var\"#21#22\"{Float64,Base.Iterators.Pairs{Symbol,Array{T,1} where T,Tuple{Symbol,Symbol},NamedTuple{(:cut, :path),Tuple{Array{Tuple{Int64,Int64},1},Array{Int64,1}}}},GraphState{Complex{Float32}}}}) at ./array.jl:665",
      " [24] #amplitudes#20 at /Users/guochu/Documents/QuantumSimulator/Meteor.jl/src/QuantumCircuit/backends/mps/observer.jl:17 [inlined]",
      " [25] top-level scope at In[10]:8"
     ]
    }
   ],
   "source": [
    "depth = 24\n",
    "\n",
    "circuit = google_circuit(m, n, depth)\n",
    "println(\"total number of gate operations $(length(circuit)).\")\n",
    "\n",
    "state = GraphState(ComplexF32, connectivities)\n",
    "apply!(circuit, state)\n",
    "amps = amplitudes(state, basis, scaling=sqrt(2), cut=[(25, 33), (26, 34), (27, 35)], path=contract_path)"
   ]
  }
 ],
 "metadata": {
  "kernelspec": {
   "display_name": "Julia 1.4.0",
   "language": "julia",
   "name": "julia-1.4"
  },
  "language_info": {
   "file_extension": ".jl",
   "mimetype": "application/julia",
   "name": "julia",
   "version": "1.4.0"
  }
 },
 "nbformat": 4,
 "nbformat_minor": 2
}
