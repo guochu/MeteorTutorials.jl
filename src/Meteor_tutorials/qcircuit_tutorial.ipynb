{
 "cells": [
  {
   "cell_type": "markdown",
   "metadata": {},
   "source": [
    "# Tutorials on using Meteor Package to solve quantum problems\n",
    "- Simulation of Boson sampling\n",
    "- Simulation of quantum circuit\n",
    "- Simulation of variational quantum circuit"
   ]
  },
  {
   "cell_type": "markdown",
   "metadata": {},
   "source": [
    "## Part 1: Simulation of Boson sampling\n",
    "\n",
    "Pipeline for boson sampling simulation:\n",
    "- Generating initial separable quantum state\n",
    "- Generating an optical circuit from phase shifters and beam spliters\n",
    "- Applying the optical circuit onto the quantum state and obtaining amplitudes "
   ]
  },
  {
   "cell_type": "code",
   "execution_count": 1,
   "metadata": {},
   "outputs": [
    {
     "data": {
      "text/plain": [
       "10-element Array{Array{Int64,1},1}:\n",
       " [2, 0, 0, 0, 0, 1]\n",
       " [1, 0, 0, 0, 0, 2]\n",
       " [0, 0, 2, 0, 1, 0]\n",
       " [2, 0, 0, 1, 0, 0]\n",
       " [0, 0, 1, 2, 0, 0]\n",
       " [0, 1, 1, 0, 0, 1]\n",
       " [0, 0, 0, 0, 3, 0]\n",
       " [0, 0, 0, 2, 1, 0]\n",
       " [0, 1, 0, 0, 1, 1]\n",
       " [2, 0, 0, 0, 1, 0]"
      ]
     },
     "execution_count": 1,
     "metadata": {},
     "output_type": "execute_result"
    }
   ],
   "source": [
    "push!(LOAD_PATH, \"../../src\")\n",
    "\n",
    "using Meteor.TensorNetwork\n",
    "using Meteor.OpticalCircuit\n",
    "using Meteor.OpticalCircuit.Utility\n",
    "\n",
    "# Generating an initial state\n",
    "\n",
    "L = 6\n",
    "N = div(L, 2)\n",
    "d = N+1\n",
    "depth = L\n",
    "\n",
    "initial_state = [0 for _ in 1:L]\n",
    "initial_state[1:N] .= 1\n",
    "\n",
    "# random basis generate 10 random basis with L modes, N particles, and a maximum of d-1 particles per mode\n",
    "basis = randombasis(L, d, N, 10)"
   ]
  },
  {
   "cell_type": "code",
   "execution_count": 2,
   "metadata": {},
   "outputs": [
    {
     "name": "stdout",
     "output_type": "stream",
     "text": [
      "number of gate operations 36.\n"
     ]
    }
   ],
   "source": [
    "# generating random bosonic circuit\n",
    "\n",
    "using LinearAlgebra: I\n",
    "function generate_boson_circuit_with_U(L::Int, N::Int, depth::Int)\n",
    "    circuit = BosonCircuit(N)\n",
    "    U = Matrix{ComplexF64}(I, L, L)\n",
    "    for i = 1:L\n",
    "        phi = rand(Float64)\n",
    "        add_phase_shifter!(circuit, i, phi)\n",
    "        U = phase_shifter_matrix(phi, L, i) * U\n",
    "    end\n",
    "    for d = 0:(depth-1)\n",
    "        if d % 2 ==0\n",
    "            for i = 1:2:(L-1)\n",
    "                theta = rand(Float64)\n",
    "                add_beam_spliter!(circuit, (i, i+1), theta)\n",
    "                U = beam_spliter_matrix(theta, L, (i, i+1)) * U\n",
    "            end\n",
    "            for i = 1:2:(L-1)\n",
    "                phi = rand(Float64)\n",
    "                add_phase_shifter!(circuit, i, phi)\n",
    "                U = phase_shifter_matrix(phi, L, i) * U\n",
    "            end\n",
    "        else\n",
    "            for i = 2:2:(L-1)\n",
    "                theta = rand(Float64)\n",
    "                add_beam_spliter!(circuit, (i, i+1), theta)\n",
    "                U = beam_spliter_matrix(theta, L, (i, i+1)) * U\n",
    "            end\n",
    "            for i = 2:2:(L-1)\n",
    "                phi = rand(Float64)\n",
    "                add_phase_shifter!(circuit, i, phi)\n",
    "                U = phase_shifter_matrix(phi, L, i) * U\n",
    "            end\n",
    "        end\n",
    "    end\n",
    "    return circuit, U\n",
    "end\n",
    "\n",
    "\n",
    "circuit, U = generate_boson_circuit_with_U(L, N, depth)\n",
    "println(\"number of gate operations $(length(circuit)).\")"
   ]
  },
  {
   "cell_type": "markdown",
   "metadata": {},
   "source": [
    "### Random optical circuit generated above ![BosonSampling](bosonsampling.png)"
   ]
  },
  {
   "cell_type": "markdown",
   "metadata": {},
   "source": [
    "### First approach to compute amplitudes-evolving the state to get a final state, and then perform measurement"
   ]
  },
  {
   "cell_type": "code",
   "execution_count": 3,
   "metadata": {
    "scrolled": true
   },
   "outputs": [
    {
     "data": {
      "text/plain": [
       "10-element Array{Complex{Float64},1}:\n",
       "  -0.09519232533710721 + 0.09464917451511544im\n",
       " -0.003505808167463626 + 0.0008299326516810119im\n",
       " -0.012728054920145516 - 0.0290103210262253im\n",
       "   0.14111404070102243 + 0.06710697032116664im\n",
       "  -0.06865312035642993 + 0.1437559378217299im\n",
       " -0.010168914401645865 + 0.033125723127067894im\n",
       "  -0.07641172237495361 + 0.026431475459560847im\n",
       "    0.2985172758287943 + 0.025056498792779585im\n",
       "  -0.07288641322837265 + 0.17876282183533082im\n",
       "  -0.11298456465933826 - 0.10652624197235304im"
      ]
     },
     "execution_count": 3,
     "metadata": {},
     "output_type": "execute_result"
    }
   ],
   "source": [
    "using LinearAlgebra: dot\n",
    "\n",
    "state = complex(product_state(circuit, initial_state))\n",
    "apply!(circuit, state)\n",
    "\n",
    "# measure amplitude one by one\n",
    "amps = [dot(state, product_state(circuit, item)) for item in basis]"
   ]
  },
  {
   "cell_type": "markdown",
   "metadata": {},
   "source": [
    "One can obtain additional information since the final state has been stored-entropy production example"
   ]
  },
  {
   "cell_type": "code",
   "execution_count": 4,
   "metadata": {},
   "outputs": [
    {
     "data": {
      "text/plain": [
       "7-element Array{Float64,1}:\n",
       " -0.0\n",
       "  1.1333353726877304\n",
       "  1.8291788236321609\n",
       "  1.9171276987356345\n",
       "  1.451043944785007\n",
       "  0.6233419201809652\n",
       " -0.0"
      ]
     },
     "execution_count": 4,
     "metadata": {},
     "output_type": "execute_result"
    }
   ],
   "source": [
    "# get the entropy from the final state\n",
    "using Meteor.Tensor: entropy\n",
    "\n",
    "etps = entropy.(svectors(state))"
   ]
  },
  {
   "cell_type": "markdown",
   "metadata": {},
   "source": [
    "### Second approach to compute amplitudes-directly performing measurement, more efficiently if only a few number of amplitudes are to be computed"
   ]
  },
  {
   "cell_type": "code",
   "execution_count": 5,
   "metadata": {},
   "outputs": [
    {
     "data": {
      "text/plain": [
       "10-element Array{Complex{Float64},1}:\n",
       "  -0.09519232533710725 - 0.0946491745151155im\n",
       " -0.003505808167463647 - 0.000829932651681019im\n",
       " -0.012728054920145488 + 0.029010321026225288im\n",
       "    0.1411140407010225 - 0.06710697032116669im\n",
       "  -0.06865312035642991 - 0.14375593782172968im\n",
       " -0.010168914401645893 - 0.033125723127067894im\n",
       "  -0.07641172237495351 - 0.026431475459560826im\n",
       "   0.29851727582879384 - 0.025056498792779564im\n",
       "  -0.07288641322837269 - 0.17876282183533096im\n",
       "   -0.1129845646593382 + 0.10652624197235308im"
      ]
     },
     "execution_count": 5,
     "metadata": {},
     "output_type": "execute_result"
    }
   ],
   "source": [
    "amps = amplitudes(circuit, initial_state, basis, scaling=1.)"
   ]
  },
  {
   "cell_type": "markdown",
   "metadata": {},
   "source": [
    "### Comparison with permanent"
   ]
  },
  {
   "cell_type": "code",
   "execution_count": 6,
   "metadata": {},
   "outputs": [
    {
     "name": "stdout",
     "output_type": "stream",
     "text": [
      "largest error between two approaches 2.7336071744532853e-16.\n"
     ]
    }
   ],
   "source": [
    "amp1s = ComplexF64[]\n",
    "amp2s = ComplexF64[]\n",
    "for item in basis\n",
    "    amp1 = amplitude(circuit, initial_state, item, scaling=1.)\n",
    "    \n",
    "    m = select_submatrix(item, U, initial_state)\n",
    "    amp2 = permanent(m)\n",
    "    push!(amp1s, amp1)\n",
    "    push!(amp2s, amp2)\n",
    "end\n",
    "\n",
    "println(\"largest error between two approaches $(maximum(abs.(amp1s-amp2s))).\")"
   ]
  },
  {
   "cell_type": "markdown",
   "metadata": {},
   "source": [
    "## Part 2: Simulation of quantum circuit\n",
    "\n",
    "Pipeline for quantum circuit simulation:\n",
    "- Generating initial separable quantum state\n",
    "- Generating a quantum circuit from phase shifters and beam spliters\n",
    "- Applying quantum measurements"
   ]
  },
  {
   "cell_type": "markdown",
   "metadata": {},
   "source": [
    "### A trivial example-bell state"
   ]
  },
  {
   "cell_type": "code",
   "execution_count": 7,
   "metadata": {},
   "outputs": [
    {
     "name": "stdout",
     "output_type": "stream",
     "text": [
      "the amplitude on [0,0] is 0.7071067811865475 + 0.0im.\n",
      "the amplitude on [0,1] is 0.0 + 0.0im.\n",
      "the amplitude on [1,0] is 0.0 + 0.0im.\n",
      "the amplitude on [1,1] is 0.7071067811865475 + 0.0im.\n",
      "the probability to obtain state 1 for the 1-th qubit is 0.4999999999999999.\n"
     ]
    }
   ],
   "source": [
    "using Meteor.QuantumCircuit\n",
    "\n",
    "state = statevector(2)\n",
    "\n",
    "circuit = QCircuit([HGate(1), CNOTGate(1,2)])\n",
    "\n",
    "apply!(circuit, state)\n",
    "\n",
    "# measuring amplitudes\n",
    "println(\"the amplitude on [0,0] is $(amplitude(state, [0,0], scaling=1.)).\")\n",
    "println(\"the amplitude on [0,1] is $(amplitude(state, [0,1], scaling=1.)).\")\n",
    "println(\"the amplitude on [1,0] is $(amplitude(state, [1,0], scaling=1.)).\")\n",
    "println(\"the amplitude on [1,1] is $(amplitude(state, [1,1], scaling=1.)).\")\n",
    "\n",
    "# measuring each qubit\n",
    "i, prob = measure!(state, 1)\n",
    "println(\"the probability to obtain state $i for the 1-th qubit is $prob.\")"
   ]
  },
  {
   "cell_type": "markdown",
   "metadata": {},
   "source": [
    "### Understand the QuantumCircuit module in depth\n",
    "Different backend with almost the same interface\n",
    "- Store the state vector in a brute-force way, exponential scaling $2^n$ with number of qubits, suitable for very deep circuit with number of qubits less than $36$ \n",
    "- Store the state vector using matrix product states (MPS), scaling $2n D^2$, where the **bond dimension** $D$ is related with the bipartition entropy, suitable for circuit which will only generate relativelly low entanglement, such as shallow quantum circuit\n",
    "- Schodinger-Feymann simulator, splitting $n$ qubits into two parts with two brute-force simulator, suitable for quantum circuit which could be divided into two separate circuits by **cutting** only a few cross gates\n",
    "- Projected entangled pair states (PEPS), used for quantum circuit on an arbitrary graph, with realtively low circuit depth\n",
    "\n",
    "Example with two-dimensional random quantum circuit\n",
    "\n",
    "### Introduction to Random Quantum Circuits\n",
    "    \n",
    "1. Finding a problem which is very hard to solve with the best supercomputer in the world, but can be efficiently solved with a quantum computer.\n",
    "2. Random quantum circuit (**RQCs**) sampling problem is a standard problem used to demonstrate quantum supremacy in near term.\n",
    "3. We propose to use Projected Entangled Pair States (**PEPS**) to study large-scale RQCs.\n",
    "\n",
    "The random quantum circuit proposed in [Characterizing Quantum Supremacy in Near-Term Devices](arXiv:1608.00263v3)\n",
    "![google circuit](GoogleCircuitH.png)\n",
    "\n",
    "Rules for $L_h\\times L_v$ circuit:\n",
    "1. Apply a Hadamard gate to each qubit to initialize the qubits to a symmetric superposition.\n",
    "2. Apply controlled-phase (CZ) gates alternating between $8$ configurations as above entangle neighbouring qubits.\n",
    "3. Apply a randomly chosen gate ($T$, $\\sqrt{X}$ or $\\sqrt{Y}$) to each qubit on which the CZ gates has not just been applied, according to certain rules.\n",
    "4. Repeat steps 2 and 3 to add layers of depth to the circuit.\n",
    "5. Apply a final Hadamard gate to each qubit."
   ]
  },
  {
   "cell_type": "code",
   "execution_count": 8,
   "metadata": {
    "scrolled": true
   },
   "outputs": [
    {
     "data": {
      "text/plain": [
       "google_circuit (generic function with 1 method)"
      ]
     },
     "execution_count": 8,
     "metadata": {},
     "output_type": "execute_result"
    }
   ],
   "source": [
    "# Genertae an m * n random quantum circuit with depth d\n",
    "function google_circuit(m::Int, n::Int, depth::Int)\n",
    "    XYT = Dict(0=>sqrtX, 1=>sqrtY, 2=>T)\n",
    "    Xoperated = zeros(Bool, m, n)\n",
    "    Yoperated = zeros(Bool, m, n)\n",
    "    Toperated = zeros(Bool, m, n)\n",
    "    CZoperated = zeros(Bool, m, n)\n",
    "\n",
    "    ControlZ = CZ\n",
    "    config1 = []\n",
    "    config2 = []\n",
    "    config3 = []\n",
    "    config4 = []\n",
    "    config5 = []\n",
    "    config6 = []\n",
    "    config7 = []\n",
    "    config8 = []\n",
    "    config1sites = []\n",
    "    config2sites = []\n",
    "    config3sites = []\n",
    "    config4sites = []\n",
    "    config5sites = []\n",
    "    config6sites = []\n",
    "    config7sites = []\n",
    "    config8sites = []\n",
    "    toind(i,j) = linear_index((m, n), (i, j), false)\n",
    "\n",
    "    # 1 configuration\n",
    "    for jj in 0:2:(n-2)\n",
    "        for ii in ((div(jj,2)+1)%2):2:(m-1)\n",
    "            i = ii + 1\n",
    "            j = jj + 1\n",
    "            push!(config1, ((toind(i, j), toind(i, j+1)), ControlZ))\n",
    "            push!(config1sites, (i, j))\n",
    "            push!(config1sites, (i, j+1))\n",
    "        end\n",
    "    end\n",
    "\n",
    "    # 2 configuration\n",
    "    for jj in 0:2:(n-2)\n",
    "        for ii in ((div(jj,2))%2):2:(m-1)\n",
    "            i = ii + 1\n",
    "            j = jj + 1\n",
    "            push!(config2, ((toind(i, j), toind(i, j+1)), ControlZ))\n",
    "            push!(config2sites, (i, j))\n",
    "            push!(config2sites, (i, j+1))\n",
    "        end\n",
    "    end\n",
    "\n",
    "    # 5 configuration\n",
    "    for jj in 1:2:(n-2)\n",
    "        for ii in ((div(jj,2)+1)%2):2:(m-1)\n",
    "            i = ii + 1\n",
    "            j = jj + 1\n",
    "            push!(config5, ((toind(i, j), toind(i, j+1)), ControlZ))\n",
    "            push!(config5sites, (i, j))\n",
    "            push!(config5sites, (i, j+1))\n",
    "        end\n",
    "    end\n",
    "\n",
    "    # 6 configuration\n",
    "    for jj in 1:2:(n-2)\n",
    "        for ii in (((div(jj,2)))%2):2:(m-1)\n",
    "            i = ii + 1\n",
    "            j = jj + 1\n",
    "            push!(config6, ((toind(i, j), toind(i, j+1)), ControlZ))\n",
    "            push!(config6sites, (i, j))\n",
    "            push!(config6sites, (i, j+1))\n",
    "        end\n",
    "    end\n",
    "\n",
    "    # 3 configuration\n",
    "    for ii in 1:2:(m-2)\n",
    "        for jj in ((div(ii,2)+1)%2):2:(n-1)\n",
    "            i = ii + 1\n",
    "            j = jj + 1\n",
    "            push!(config3, ((toind(i, j), toind(i+1, j)), ControlZ))\n",
    "            push!(config3sites, (i, j))\n",
    "            push!(config3sites, (i+1, j))\n",
    "        end\n",
    "    end\n",
    "\n",
    "    # 4 configuration\n",
    "    for ii in 1:2:(m-2)\n",
    "        for jj in ((div(ii,2))%2):2:(n-1)\n",
    "            i = ii + 1\n",
    "            j = jj + 1\n",
    "            push!(config4, ((toind(i, j), toind(i+1, j)), ControlZ))\n",
    "            push!(config4sites, (i, j))\n",
    "            push!(config4sites, (i+1, j))\n",
    "        end\n",
    "    end\n",
    "\n",
    "    # 7 configuration\n",
    "    for ii in 0:2:(m-2)\n",
    "        for jj in ((div(ii,2))%2):2:(n-1)\n",
    "            i = ii + 1\n",
    "            j = jj + 1\n",
    "            push!(config7, ((toind(i, j), toind(i+1, j)), ControlZ))\n",
    "            push!(config7sites, (i, j))\n",
    "            push!(config7sites, (i+1, j))\n",
    "        end\n",
    "    end\n",
    "\n",
    "    # 8 configuration\n",
    "    for ii in 0:2:(m-2)\n",
    "        for jj in ((div(ii,2)+1)%2):2:(n-1)\n",
    "            i = ii + 1\n",
    "            j = jj + 1\n",
    "            push!(config8, ((toind(i, j), toind(i+1, j)), ControlZ))\n",
    "            push!(config8sites, (i, j))\n",
    "            push!(config8sites, (i+1, j))\n",
    "        end\n",
    "    end\n",
    "\n",
    "    configs=[(config1, config1sites), (config2, config2sites), (config3, config3sites),\n",
    "        (config4, config4sites), (config5, config5sites), (config6, config6sites),\n",
    "        (config7, config7sites), (config8, config8sites)]\n",
    "\n",
    "    function __generate_one_body_gates()\n",
    "        one_body_gates = []\n",
    "        tmpXoperated = zeros(Bool, m, n)\n",
    "        tmpYoperated = zeros(Bool, m, n)\n",
    "        for i in 1:m\n",
    "            for j in 1:n\n",
    "                # Place a gate at qubit q only if this qubit is\n",
    "                # occupied by a CZ gate in the previous cycle\n",
    "                if CZoperated[i, j]\n",
    "                    # Place a T gate at qubit q if there are no single\n",
    "                    # qubit gates in the previous cycles at qubit q except\n",
    "                    # for the initial cycle of Hadamard gates\n",
    "                    if !Toperated[i, j]\n",
    "                        push!(one_body_gates, (toind(i, j), XYT[2]))\n",
    "                        Toperated[i, j] = true\n",
    "                    else\n",
    "                        # Any gate at qubit q should be different from\n",
    "                        # the gate at qubit q in the previous cycle.\n",
    "                        if tmpXoperated[i, j]\n",
    "                            push!(one_body_gates, (toind(i, j), XYT[1]))\n",
    "                            tmpYoperated[i, j] = true\n",
    "                        else\n",
    "                            if tmpYoperated[i, j]\n",
    "                                push!(one_body_gates, (toind(i, j), XYT[0]))\n",
    "                                tmpXoperated[i, j] = true\n",
    "                            else\n",
    "                                r = rand(0:1)\n",
    "                                push!(one_body_gates, (toind(i, j), XYT[0]))\n",
    "                                if r == 0\n",
    "                                    tmpXoperated[i, j] = true\n",
    "                                else\n",
    "                                    tmpYoperated[i, j] = true\n",
    "                                end\n",
    "                            end\n",
    "                        end\n",
    "                    end\n",
    "                end\n",
    "            end\n",
    "        end\n",
    "        Xoperated = tmpXoperated\n",
    "        Yoperated = tmpYoperated\n",
    "        return one_body_gates\n",
    "    end\n",
    "\n",
    "\n",
    "    circuit = QCircuit()\n",
    "    for i in 1:m\n",
    "        for j in 1:n\n",
    "            push!(circuit, (toind(i, j), H))\n",
    "        end\n",
    "    end\n",
    "    for i in 0:(depth-1)\n",
    "        present_config = i % 8 + 1\n",
    "        # println(\"present config is $present_config\")\n",
    "        config, configsites = configs[present_config]\n",
    "        fill!(CZoperated, false)\n",
    "        for item in configsites\n",
    "            CZoperated[item...] = true\n",
    "        end\n",
    "        one_body_gates = __generate_one_body_gates()\n",
    "        for item in one_body_gates\n",
    "            push!(circuit, item)\n",
    "        end\n",
    "        for item in config\n",
    "            push!(circuit, item)\n",
    "        end\n",
    "        # append!(circuit, one_body_gates)\n",
    "        # append!(circuit, config)\n",
    "    end\n",
    "    for i in 1:m\n",
    "        for j in 1:n\n",
    "            push!(circuit, (toind(i, j), H))\n",
    "        end\n",
    "    end\n",
    "    return circuit\n",
    "end"
   ]
  },
  {
   "cell_type": "code",
   "execution_count": 9,
   "metadata": {},
   "outputs": [
    {
     "name": "stdout",
     "output_type": "stream",
     "text": [
      "number of gate operations 170.\n"
     ]
    }
   ],
   "source": [
    "m = 5\n",
    "n = 5\n",
    "depth = 8\n",
    "\n",
    "circuit = google_circuit(m, n, depth)\n",
    "println(\"number of gate operations $(length(circuit)).\")"
   ]
  },
  {
   "cell_type": "markdown",
   "metadata": {},
   "source": [
    "### Gate fusion technique-absorbing onebody gate into twobody gate"
   ]
  },
  {
   "cell_type": "code",
   "execution_count": 10,
   "metadata": {
    "scrolled": true
   },
   "outputs": [
    {
     "name": "stdout",
     "output_type": "stream",
     "text": [
      "number of gate operations after gate fusion 40.\n"
     ]
    }
   ],
   "source": [
    "circuit = fuse_gate(circuit)\n",
    "println(\"number of gate operations after gate fusion $(length(circuit)).\")"
   ]
  },
  {
   "cell_type": "markdown",
   "metadata": {},
   "source": [
    "### Brute-force simulator"
   ]
  },
  {
   "cell_type": "code",
   "execution_count": 11,
   "metadata": {},
   "outputs": [
    {
     "data": {
      "text/plain": [
       "5-element Array{Complex{Float64},1}:\n",
       " -0.7212962763810143 + 0.13179740997841694im\n",
       " 0.19600240171336664 - 0.1698445713143836im\n",
       "  0.8347877927646036 - 0.35937513477808414im\n",
       " 0.11316624808020642 + 0.2511107126936645im\n",
       "  0.9590029846959107 + 0.155464846319164im"
      ]
     },
     "execution_count": 11,
     "metadata": {},
     "output_type": "execute_result"
    }
   ],
   "source": [
    "state = statevector(ComplexF32, m * n)\n",
    "\n",
    "# generating random basis\n",
    "basis = [rand(0:1, m*n) for _ in 1:5]\n",
    "apply!(circuit, state)\n",
    "\n",
    "amps = amplitudes(state, basis, scaling=sqrt(2))"
   ]
  },
  {
   "cell_type": "markdown",
   "metadata": {},
   "source": [
    "### Matrix Product States Simulator"
   ]
  },
  {
   "cell_type": "code",
   "execution_count": 12,
   "metadata": {},
   "outputs": [
    {
     "data": {
      "text/plain": [
       "5-element Array{Complex{Float64},1}:\n",
       " -0.7212961078734764 + 0.13179732566475474im\n",
       " 0.19600243558256952 - 0.16984465132951im\n",
       "   0.834787607362388 - 0.35937499999999195im\n",
       " 0.11316626073623946 + 0.2511104345603936im\n",
       "  0.9590024115546597 + 0.15546480419227132im"
      ]
     },
     "execution_count": 12,
     "metadata": {},
     "output_type": "execute_result"
    }
   ],
   "source": [
    "state = qstate(m * n)\n",
    "\n",
    "apply!(circuit, state)\n",
    "amps = amplitudes(state, basis, scaling=sqrt(2))"
   ]
  },
  {
   "cell_type": "markdown",
   "metadata": {},
   "source": [
    "### Schodinger-Feymann simulator"
   ]
  },
  {
   "cell_type": "code",
   "execution_count": 13,
   "metadata": {},
   "outputs": [
    {
     "name": "stdout",
     "output_type": "stream",
     "text": [
      "a wedge (12, 13), (12, 17) is found, with 4 branches.\n"
     ]
    },
    {
     "data": {
      "text/plain": [
       "5-element Array{Complex{Float64},1}:\n",
       " -0.7212961078734764 + 0.13179732566475474im\n",
       " 0.19600243558256952 - 0.16984465132951im\n",
       "   0.834787607362388 - 0.35937499999999195im\n",
       " 0.11316626073623946 + 0.2511104345603936im\n",
       "  0.9590024115546597 + 0.15546480419227132im"
      ]
     },
     "execution_count": 13,
     "metadata": {},
     "output_type": "execute_result"
    }
   ],
   "source": [
    "half_position = div(m * n, 2)\n",
    "sf_circuit = SFQCircuit(ComplexF32, collect(1:half_position), collect(half_position+1:m*n), circuit, verbose=2)\n",
    "amps = amplitudes(state, basis, scaling=sqrt(2))"
   ]
  },
  {
   "cell_type": "markdown",
   "metadata": {},
   "source": [
    "### PEPS simulator"
   ]
  },
  {
   "cell_type": "markdown",
   "metadata": {},
   "source": [
    "Specifying the graph connectivity"
   ]
  },
  {
   "cell_type": "code",
   "execution_count": 14,
   "metadata": {},
   "outputs": [
    {
     "name": "stdout",
     "output_type": "stream",
     "text": [
      "[(1, 2), (2, 3), (3, 4), (4, 5), (6, 7), (7, 8), (8, 9), (9, 10), (11, 12), (12, 13), (13, 14), (14, 15), (16, 17), (17, 18), (18, 19), (19, 20), (21, 22), (22, 23), (23, 24), (24, 25), (1, 6), (2, 7), (3, 8), (4, 9), (5, 10), (6, 11), (7, 12), (8, 13), (9, 14), (10, 15), (11, 16), (12, 17), (13, 18), (14, 19), (15, 20), (16, 21), (17, 22), (18, 23), (19, 24), (20, 25)]\n"
     ]
    }
   ],
   "source": [
    "connectivity = square_connectivity(m, n)\n",
    "println(connectivity)"
   ]
  },
  {
   "cell_type": "code",
   "execution_count": 15,
   "metadata": {},
   "outputs": [
    {
     "data": {
      "text/plain": [
       "GraphState{Complex{Float32}}({25, 40} undirected simple Int64 graph, IndexedTensor{Complex{Float32},N} where N[IndexedTensor{Complex{Float32},3}(Complex{Float32}[1.0f0 + 0.0f0im; 0.0f0 + 0.0f0im], (1, 2, 3)), IndexedTensor{Complex{Float32},4}(Complex{Float32}[1.0f0 + 0.0f0im; 0.0f0 + 0.0f0im], (4, 2, 5, 6)), IndexedTensor{Complex{Float32},4}(Complex{Float32}[1.0f0 + 0.0f0im; 0.0f0 + 0.0f0im], (7, 5, 8, 9)), IndexedTensor{Complex{Float32},4}(Complex{Float32}[1.0f0 + 0.0f0im; 0.0f0 + 0.0f0im], (10, 8, 11, 12)), IndexedTensor{Complex{Float32},3}(Complex{Float32}[1.0f0 + 0.0f0im; 0.0f0 + 0.0f0im], (13, 11, 14)), IndexedTensor{Complex{Float32},4}(Complex{Float32}[1.0f0 + 0.0f0im; 0.0f0 + 0.0f0im], (15, 3, 16, 17)), IndexedTensor{Complex{Float32},5}(Complex{Float32}[1.0f0 + 0.0f0im; 0.0f0 + 0.0f0im], (18, 6, 16, 19, 20)), IndexedTensor{Complex{Float32},5}(Complex{Float32}[1.0f0 + 0.0f0im; 0.0f0 + 0.0f0im], (21, 9, 19, 22, 23)), IndexedTensor{Complex{Float32},5}(Complex{Float32}[1.0f0 + 0.0f0im; 0.0f0 + 0.0f0im], (24, 12, 22, 25, 26)), IndexedTensor{Complex{Float32},4}(Complex{Float32}[1.0f0 + 0.0f0im; 0.0f0 + 0.0f0im], (27, 14, 25, 28))  …  IndexedTensor{Complex{Float32},4}(Complex{Float32}[1.0f0 + 0.0f0im; 0.0f0 + 0.0f0im], (43, 31, 44, 45)), IndexedTensor{Complex{Float32},5}(Complex{Float32}[1.0f0 + 0.0f0im; 0.0f0 + 0.0f0im], (46, 34, 44, 47, 48)), IndexedTensor{Complex{Float32},5}(Complex{Float32}[1.0f0 + 0.0f0im; 0.0f0 + 0.0f0im], (49, 37, 47, 50, 51)), IndexedTensor{Complex{Float32},5}(Complex{Float32}[1.0f0 + 0.0f0im; 0.0f0 + 0.0f0im], (52, 40, 50, 53, 54)), IndexedTensor{Complex{Float32},4}(Complex{Float32}[1.0f0 + 0.0f0im; 0.0f0 + 0.0f0im], (55, 42, 53, 56)), IndexedTensor{Complex{Float32},3}(Complex{Float32}[1.0f0 + 0.0f0im; 0.0f0 + 0.0f0im], (57, 45, 58)), IndexedTensor{Complex{Float32},4}(Complex{Float32}[1.0f0 + 0.0f0im; 0.0f0 + 0.0f0im], (59, 48, 58, 60)), IndexedTensor{Complex{Float32},4}(Complex{Float32}[1.0f0 + 0.0f0im; 0.0f0 + 0.0f0im], (61, 51, 60, 62)), IndexedTensor{Complex{Float32},4}(Complex{Float32}[1.0f0 + 0.0f0im; 0.0f0 + 0.0f0im], (63, 54, 62, 64)), IndexedTensor{Complex{Float32},3}(Complex{Float32}[1.0f0 + 0.0f0im; 0.0f0 + 0.0f0im], (65, 56, 64))], [1, 2, 3, 4, 5, 6, 7, 8, 9, 10  …  16, 17, 18, 19, 20, 21, 22, 23, 24, 25])"
      ]
     },
     "execution_count": 15,
     "metadata": {},
     "output_type": "execute_result"
    }
   ],
   "source": [
    "gf_state = GraphState(ComplexF32, connectivity)"
   ]
  },
  {
   "cell_type": "code",
   "execution_count": 16,
   "metadata": {},
   "outputs": [
    {
     "data": {
      "text/plain": [
       "5-element Array{Complex{Float32},1}:\n",
       " -0.72129774f0 + 0.13179678f0im\n",
       "  0.19600302f0 - 0.16984539f0im\n",
       "   0.8347877f0 - 0.35937488f0im\n",
       "  0.11316672f0 + 0.25111195f0im\n",
       "  0.95900494f0 + 0.15546587f0im"
      ]
     },
     "execution_count": 16,
     "metadata": {},
     "output_type": "execute_result"
    }
   ],
   "source": [
    "apply!(circuit, gf_state)\n",
    "\n",
    "amps = amplitudes(gf_state, basis, scaling=sqrt(2))"
   ]
  },
  {
   "cell_type": "markdown",
   "metadata": {},
   "source": [
    "Directly computing the amplitudes without store the final state, which maybe faster. Moreover, to get the best performance from the PEPS simulator, one needs to understand more about the problem to feed other keyword arguments into the function"
   ]
  },
  {
   "cell_type": "code",
   "execution_count": 17,
   "metadata": {},
   "outputs": [
    {
     "data": {
      "text/plain": [
       "5-element Array{Complex{Float32},1}:\n",
       " -0.72129667f0 + 0.1317971f0im\n",
       "  0.19600302f0 - 0.16984557f0im\n",
       "  0.83478826f0 - 0.35937542f0im\n",
       "  0.11316638f0 + 0.2511116f0im\n",
       "   0.9590033f0 + 0.1554653f0im"
      ]
     },
     "execution_count": 17,
     "metadata": {},
     "output_type": "execute_result"
    }
   ],
   "source": [
    "amps = graph_amplitudes(ComplexF32, connectivity, circuit, basis, scaling=sqrt(2))"
   ]
  },
  {
   "cell_type": "markdown",
   "metadata": {},
   "source": [
    "## Part 3: Simulation of variational quantum circuit\n",
    "Only brute-force and MPS simulator support automatic differentiation of variational quantum circuit currently"
   ]
  },
  {
   "cell_type": "markdown",
   "metadata": {},
   "source": [
    "### Specifying a parameteric quantum gate-Variable wrapper"
   ]
  },
  {
   "cell_type": "code",
   "execution_count": 18,
   "metadata": {},
   "outputs": [
    {
     "name": "stdout",
     "output_type": "stream",
     "text": [
      "number of parameters 0.\n",
      "number of parameters 1.\n",
      "number of parameters 1.\n",
      "number of parameters 1.\n"
     ]
    }
   ],
   "source": [
    "using Meteor.Diff\n",
    "\n",
    "# This is a normal quantum gate\n",
    "gate1 = RxGate(1, 0.5)\n",
    "println(\"number of parameters $(nparameters(gate1)).\")\n",
    "\n",
    "# This is a variational quantum gate\n",
    "gate2 = RxGate(1, Variable(0.5))\n",
    "println(\"number of parameters $(nparameters(gate2)).\")\n",
    "\n",
    "# This is a variational two qubit gate\n",
    "gate3 = CRxGate((1, 3), Variable(0.5))\n",
    "println(\"number of parameters $(nparameters(gate3)).\")\n",
    "\n",
    "gate4 = CRxGate(control=1, target=3, theta=Variable(0.5))\n",
    "println(\"number of parameters $(nparameters(gate4)).\")"
   ]
  },
  {
   "cell_type": "markdown",
   "metadata": {},
   "source": [
    "### A parameteric quantum circuit is just a quantum circuit with some parameteric quantum gates"
   ]
  },
  {
   "cell_type": "code",
   "execution_count": 19,
   "metadata": {},
   "outputs": [
    {
     "name": "stdout",
     "output_type": "stream",
     "text": [
      "1\n"
     ]
    }
   ],
   "source": [
    "# This is a normal quantum gate\n",
    "gate1 = RxGate(1, Variable(0.5))\n",
    "\n",
    "# This is a variational quantum gate\n",
    "gate2 = CNOTGate(control=1,target=1)\n",
    "\n",
    "circuit = QCircuit([gate1, gate2])\n",
    "println(nparameters(circuit))"
   ]
  },
  {
   "cell_type": "markdown",
   "metadata": {},
   "source": [
    "### A trivial example"
   ]
  },
  {
   "cell_type": "code",
   "execution_count": 20,
   "metadata": {},
   "outputs": [
    {
     "name": "stdout",
     "output_type": "stream",
     "text": [
      "number of parameters 48.\n"
     ]
    },
    {
     "data": {
      "text/plain": [
       "9-element Array{Tuple{Int64,Float64},1}:\n",
       " (2, 0.0)\n",
       " (2, 0.0)\n",
       " (2, 0.0)\n",
       " (2, 0.0)\n",
       " (4, 0.0)\n",
       " (2, 0.0)\n",
       " (2, 0.0)\n",
       " (4, 0.0)\n",
       " (2, 0.0)"
      ]
     },
     "execution_count": 20,
     "metadata": {},
     "output_type": "execute_result"
    }
   ],
   "source": [
    "L = 4\n",
    "depth = 3\n",
    "\n",
    "circuit = QCircuit()\n",
    "\n",
    "for d in 1:depth\n",
    "  for i in 1:L\n",
    "    push!(circuit, RzGate(i, Variable(randn())))\n",
    "    push!(circuit, RxGate(i, Variable(randn())))\n",
    "    push!(circuit, RzGate(i, Variable(randn())))\n",
    "  end\n",
    "  for i in 1:L-1\n",
    "    push!(circuit, CNOTGate(control=i, target=i+1))\n",
    "  end\n",
    "end\n",
    "\n",
    "for i in 1:L\n",
    "  push!(circuit, RzGate(i, Variable(randn())))\n",
    "  push!(circuit, RxGate(i, Variable(randn())))\n",
    "  push!(circuit, RzGate(i, Variable(randn())))\n",
    "end\n",
    "\n",
    "println(\"number of parameters $(nparameters(circuit)).\")\n",
    "\n",
    "# create an initial state [0,0,0,0,0]\n",
    "state = qstate(L)\n",
    "\n",
    "# A parameteric quantum circuit can be applied onto a quantum state just as a normal quantum state\n",
    "apply!(circuit, state)"
   ]
  },
  {
   "cell_type": "markdown",
   "metadata": {},
   "source": [
    "### Applying the quantum circuit onto the quantum state to produce an output quantum state, without changing the input state"
   ]
  },
  {
   "cell_type": "code",
   "execution_count": 21,
   "metadata": {},
   "outputs": [
    {
     "data": {
      "text/plain": [
       "NSymMPS{Complex{Float64}}(Array{Complex{Float64},3}[[-0.7529462408962175 + 0.07608731232474654im 0.07084103722268449 - 0.4182440700745398im]\n",
       "\n",
       "[0.23065020246636952 - 0.07702920270314918im -0.02333869304824819 - 0.43319558626109067im], [0.00142220498026846 - 0.7770926941294138im -0.503325451834151 - 0.07623767701359468im; 0.2352274393574406 + 0.06751991260872396im 0.3145708725953559 + 0.4495716800876567im]\n",
       "\n",
       "[-0.09891287584411451 + 0.1169277535649978im -0.3261232178633932 + 0.02274724275337507im; -0.2450844935421836 + 0.4460896774129206im -0.5304051640877335 - 0.050977989071551294im]\n",
       "\n",
       "[-0.021027545518920516 - 0.03641654501406166im 0.01569133867076337 + 0.006231172129343299im; 0.09111343183339873 - 0.16936983371186856im -0.22568674411678247 + 0.0010056384223976894im]\n",
       "\n",
       "[-0.03663576083775663 + 0.022049227828990627im -0.000967321984118294 - 0.05257309379047611im; 0.07968494283847902 + 0.02312159370507103im 0.009907513723187487 + 0.033808403880946324im], [0.475919092969584 - 0.050008667525259586im 0.09253026583168938 + 0.7170287812464707im; 0.7267160227162206 - 0.11437818370445085im 0.051447039406245794 - 0.4019253606449673im; 0.18570151512532287 + 0.08578675841006521im 0.2987511461476753 + 0.21892282523832912im; 0.07449410754679012 + 0.42709227438787073im 0.10402654899466475 - 0.40634481631422587im]\n",
       "\n",
       "[0.42576723334840794 - 0.07812552795752709im 0.014584289690111267 - 0.24640209063867388im; 0.12302480936125453 + 0.057681222594334634im 0.20680085797884973 + 0.4830960960384536im; -0.7109188138264333 + 0.18162946180697065im 0.5051338425794354 - 0.1655932017295144im; 0.237811463207014 - 0.4463264774226548im 0.34149149374284615 - 0.5135436959772015im], [0.4320726162300204 - 0.43866872291604525im -0.5044059515129007 - 0.6053574497086136im; 0.6308987765303196 - 0.47206963428280074im 0.31872235162056595 + 0.5268140627755727im]], [[1.0], [0.8675620297614753, 0.49732899022292126], [0.8595611480131498, 0.48207432816854023, 0.15261752236072867, 0.07393826354223129], [0.8517468869685384, 0.5239534717314178], [1.0]])"
      ]
     },
     "execution_count": 21,
     "metadata": {},
     "output_type": "execute_result"
    }
   ],
   "source": [
    "state = qstate(L)\n",
    "output_state = circuit * state"
   ]
  },
  {
   "cell_type": "markdown",
   "metadata": {},
   "source": [
    "### Create a loss function and compute the gradient"
   ]
  },
  {
   "cell_type": "code",
   "execution_count": 22,
   "metadata": {},
   "outputs": [
    {
     "data": {
      "text/plain": [
       "48-element Array{Number,1}:\n",
       "  0.08984941335422317\n",
       " -0.044103406631744765\n",
       "  0.04934572237025491\n",
       "  0.08984941335422321\n",
       " -0.07956824123472904\n",
       "  0.03930939877787876\n",
       "  0.08984941335422306\n",
       " -0.11446483496593426\n",
       "  0.07075857830709727\n",
       "  0.08984941335422314\n",
       " -0.02763835464121249\n",
       " -0.009040255174924555\n",
       "  0.04934572237025489\n",
       "  ⋮\n",
       "  0.08106541499362216\n",
       "  0.005901816962650097\n",
       "  0.08984941335422314\n",
       "  0.08985250816252767\n",
       " -0.20601982366124283\n",
       "  0.08984941335422313\n",
       "  0.08865991822062967\n",
       "  0.05734994728616231\n",
       "  0.08984941335422313\n",
       "  0.09698598507231646\n",
       " -0.022293009236661436\n",
       "  0.08984941335422315"
      ]
     },
     "execution_count": 22,
     "metadata": {},
     "output_type": "execute_result"
    }
   ],
   "source": [
    "using Zygote\n",
    "\n",
    "# Supported differential operations on quantum state: *, dot, distance\n",
    "loss_example(circ) = begin\n",
    "  out_put = circ * state\n",
    "  return real(dot(out_put, state))\n",
    "end\n",
    "\n",
    "\n",
    "grad = parameters(gradient(loss_example, circuit))\n"
   ]
  },
  {
   "cell_type": "markdown",
   "metadata": {},
   "source": [
    "### A complete example-quantum state tomography with variational quantum circuit"
   ]
  },
  {
   "cell_type": "code",
   "execution_count": 26,
   "metadata": {},
   "outputs": [
    {
     "name": "stderr",
     "output_type": "stream",
     "text": [
      "┌ Warning: no observers have been set.\n",
      "└ @ Meteor.Model /Users/guochu/Documents/QuantumSimulator/Meteor.jl/src/Model/Model/base.jl:147\n"
     ]
    },
    {
     "name": "stdout",
     "output_type": "stream",
     "text": [
      "number of parameters 40.\n",
      "loss at the 20-th step is 0.3554303430682362.\n",
      "loss at the 40-th step is 0.0629559944071083.\n",
      "loss at the 60-th step is 0.04316085652094115.\n",
      "loss at the 80-th step is 0.03892008816773185.\n",
      "loss at the 100-th step is 0.0361583733931391.\n",
      "loss at the 120-th step is 0.03297106680166595.\n",
      "loss at the 140-th step is 0.02968437060622653.\n",
      "loss at the 160-th step is 0.027400013225553854.\n",
      "loss at the 180-th step is 0.02642559056618321.\n",
      "loss at the 200-th step is 0.0261336843227975.\n"
     ]
    }
   ],
   "source": [
    "using Flux\n",
    "using Flux.Optimise\n",
    "using Meteor.Model: xxz, product_state!, ground_state!\n",
    "\n",
    "function real_variational_circuit(L::Int, depth::Int)\n",
    "    circuit = QCircuit()\n",
    "    for i in 1:L\n",
    "        add!(circuit, RyGate(i, Variable(randn(Float64))))\n",
    "    end\n",
    "    for i in 1:depth\n",
    "        for j in 1:(L-1)\n",
    "            add!(circuit, CNOTGate((j, j+1)))\n",
    "        end\n",
    "        for j in 1:L\n",
    "            add!(circuit, RyGate(j, Variable(randn(Float64))))\n",
    "        end\n",
    "    end\n",
    "    return circuit\n",
    "end\n",
    "\n",
    "function xxz_ground_state(L::Int, J::Real, Jzz::Real, h::Real)\n",
    "    model = xxz(L, J=J, Jzz=Jzz, h=h)\n",
    "    initial_state = [0 for i in 1:L]\n",
    "    for i in 1:2:L\n",
    "        initial_state[i] = 1\n",
    "    end\n",
    "    product_state!(model, initial_state)\n",
    "    r = ground_state!(model, verbose=0)\n",
    "    return model.state\n",
    "end\n",
    "\n",
    "L = 10\n",
    "J = 1.\n",
    "Jzz = 1.5\n",
    "h = 0.1\n",
    "\n",
    "initial_state = qstate(Float64, L)\n",
    "target_state = xxz_ground_state(L, J, Jzz, h)\n",
    "\n",
    "loss(circ) = 1 - abs(dot(target_state, circ * initial_state))\n",
    "\n",
    "circuit = real_variational_circuit(L, depth)\n",
    "x0 = parameters(circuit)\n",
    "\n",
    "println(\"number of parameters $(length(x0)).\")\n",
    "opt = ADAM(0.05)\n",
    "\n",
    "fvalues = [loss(circuit)]\n",
    "for i in 1:200\n",
    "    grad = parameters(gradient(loss, circuit))\n",
    "    Optimise.update!(opt, x0, grad)\n",
    "    set_parameters!(x0, circuit)\n",
    "    ss = loss(circuit)\n",
    "    push!(fvalues, ss)\n",
    "    if i % 20 == 0\n",
    "        println(\"loss at the $i-th step is $ss.\")\n",
    "    end\n",
    "end\n"
   ]
  }
 ],
 "metadata": {
  "kernelspec": {
   "display_name": "Julia 1.4.0",
   "language": "julia",
   "name": "julia-1.4"
  },
  "language_info": {
   "file_extension": ".jl",
   "mimetype": "application/julia",
   "name": "julia",
   "version": "1.4.0"
  }
 },
 "nbformat": 4,
 "nbformat_minor": 2
}
